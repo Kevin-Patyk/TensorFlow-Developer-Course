{
  "cells": [
    {
      "cell_type": "markdown",
      "id": "878ef0a6",
      "metadata": {
        "id": "878ef0a6"
      },
      "source": [
        "# TensorFlow Fundamentals\n",
        "\n",
        "-----\n",
        "\n",
        "## What Is Deep Learning?\n",
        "\n",
        "* A type of machine learning based on artificial neural networks in which multiple layers or processing are used to extract progressively higher level features from data. \n",
        "* Machine learning is turning things (data) into numbers and finding patterns in those numbers. The computer does this part through code and math.\n",
        "* Deep learning is usually considered a subfield of machine learning. Both machine learning and deep learning fall under the umbrella of artificial intelligence.\n",
        "\n",
        "The goal of this course is to get deep into the programming element of deep learning using the `TensorFlow` library.\n",
        "\n",
        "## Why Use Machine Learning/Deep Learning?\n",
        "\n",
        "* The good reason is: why not? Both are extremely powerful tools.\n",
        "* The better reason: For a complex problem, such as teaching a car how to self-drive, can you think of all the rules? Probably not, since there are so many of them and many of the rules are learned through driving itself.\n",
        "* Machine learning and deep learning are very flexible and can be used to solve a huge different variety of problems.\n",
        "* You should not use ML/DL if you can build a simple rule-based system that doesn't require machine learning, do that. This comes from Google's ML Handbook.\n",
        "\n",
        "### What Is DL Good For?\n",
        "\n",
        "* Problems with long lists of rules - when the traditional approach fails, use ML/DL.\n",
        "* Continually changing environments - deep learning can adapt (learn) to new scenarios.\n",
        "* Discovering insights within large collections of data - can you imagine trying to hand-craft rules for what 101 different kinds of food look like?\n",
        "\n",
        "### What Is DL (Typically) Not Good For?\n",
        "\n",
        "* When you need explainability - the patterns learned by a deep learning models are typically uninterpretable by a human.\n",
        "* When the traditional approach is a better problem.\n",
        "* When errors are unnacceptable - since the outputs of deep learning model aren't always predictable. \n",
        "* When you don't have much data - DL models usually require a fairly large amount of data to produce great results.\n",
        "\n",
        "### ML vs DL\n",
        "\n",
        "Traditional machine learning algorithms typically perform well on structured data, with rows and columns. Think of a typically dataset on an excel sheet. Deep learning performs well on unstructured data, such as natural language text or sound waves. \n",
        "\n",
        "Some of the most common algorithms for ML are: random forest, naive bayes, nearest neighbor, and SVM. These can be referred to as \"shallow algorithms.\"\n",
        "\n",
        "Some of the most common algorithms for DL are: neural networks, fully connected neural network, CNN, RNN, transformer, and others. For this course, we are going to be focused on building NNs, fully connected NNs, CNNs, and RNNs. \n",
        "\n",
        "You can use ML and DL for structured/unstructured data; it just depends on how you formulate the problem.\n",
        "\n",
        "## What Are Neural Networks?\n",
        "\n",
        "* They are a subset of machine learning and are at the heart of deep learning algorithms. Their name and structure are inspired by the human brain, mimicking the way that biological neurons signal to one another.\n",
        "* These NNs are comprised of node layers, containing an input layer, one or more hidden layers, and an output layer. Each node, or artificial neuron, connects to another and has an associated weight and threshold. \n",
        "* If the output of any individual node is above the specified threshold value, that node is activated, sending data to the next layer of the network. Otherwise, no data is passed to the next layer of the network. \n",
        "* Input of the NN must be numeric and we typically set the output as something that a human can understand. For example, we can have a probability output with anything above 0.5 as an event happening and less than or equal to 0.5 as an event not happening. \n",
        "\n",
        "Essentially, the neural networks takes inputs, converts them to numerical values (numerical encoding), learngs representation (patterns, features, and weights), creates representation outputs (numeric values, such as probabilities), and then converts them to human understandable outputs (such as an event happening or not). \n",
        "\n",
        "As you can see, there is an input later (data goes in there), hidden layers (learns patterns in the data), and an output layer (outputs learned representation or predicted probabilities). \n",
        "\n",
        "As a note, patterns in data is an arbitrary term, you will also hear embedding, weights, feature representation, and feature vectors. This all refer to similar things.\n",
        "\n",
        "Types of learning:\n",
        "\n",
        "* Supervised Learning - we have data and the output labels.\n",
        "* Semi-supervised Learning - we have data and it only has some labels.\n",
        "* Unsupervised Learning - we have data and no output labels.\n",
        "* Transfer learning - taking what one DL model has learned on a set of data and using it on another problem from another set of data. \n",
        "\n",
        "## What Is Deep Learning Already Used For?\n",
        "\n",
        "* Recommendation (Such as YouTube)\n",
        "* Translation\n",
        "* Speech Recognition\n",
        "* Computer Vision\n",
        "* Natural Language Processing \n",
        "\n",
        "## What Is and Why Use TensorFlow? \n",
        "\n",
        "`TensorFlow` will help us learn deep learning models. `TensorFlow` is:\n",
        "\n",
        "* End-to-end platform for machine learning\n",
        "* Write fast deep learning code in Python/other accessible languages (able to run on a GPU/TPU)\n",
        "* Able to access many pre-built deep learning models (TensorFlow Hub)\n",
        "* Whole stack: preprocess data, model data, deploy model in your application\n",
        "* Originally designed and used in-house by Google (now open-source)\n",
        "\n",
        "So, why `TensorFlow`?\n",
        "\n",
        "* Easy model building\n",
        "* Robust ML production anywhere\n",
        "* Powerful experimentation for research \n",
        "\n",
        "`Keras` is part of `TensorFlow`. It can be used by anyone to solve a problem in a day without an investing, without an engineering team, and without expensive hardware. \n",
        "\n",
        "### What Is a GPU/TPU?\n",
        "\n",
        "* A GPU is a graphics processing unit. It is the graphics card in your computer. These are very fast at crunching numbers; they do numerical calculations very fast. \n",
        "* A TPU is a tensor processing unit. It is an AI accelerator developed by Google for neural network machine learning, using Google's own `TensorFlow` software. \n",
        "\n",
        "## What Is a Tensor?\n",
        "\n",
        "A tensor is a numerical way to represent information. They are multi-dimensional arrays with a uniform type (called a `dtype`). If you are familiar with `NumPy`, tensors are kind of like `np.arrays`. \n",
        "\n",
        "All tensors are immutable like Python numbers and strings: you can never update the contents of a tensor, only create a new one. \n",
        "\n",
        "## What Else Are We Going To Cover?\n",
        "\n",
        "* `TensorFlow` basics and fundamentals.\n",
        "* Preprocessing data (getting it into tensors)\n",
        "* Building and using pretrained deep learning models\n",
        "* Fitting a model to the data (learning patterns)\n",
        "* Making predictions with a model (using patterns)\n",
        "* Evaluating model predictions\n",
        "* Saving and loading models\n",
        "* Using a trained model to make predictions on custom data\n",
        "\n",
        "The general workflow when working with `TensorFlow` is:\n",
        "\n",
        "1. Get data ready (into tensors)\n",
        "2. Build or pick a pretrained model (to suit your problem)\n",
        "3. Fit the model to the data and make a prediction\n",
        "4. Evaluate the model\n",
        "5. Improve through experimentation\n",
        "6. Save and reload your trained model\n",
        "\n",
        "##  How To Approach This Course:\n",
        "\n",
        "1. Write code.\n",
        "2. Explore & experiment.\n",
        "3. Ask questions.\n",
        "4. Do the exercises (try them yourself before looking at the solutions).\n",
        "5. If you want to learn more, look stuff up. \n",
        "6. Share your work.\n",
        "7. Avoid overthinking and \"I can't learn it\" mentality. \n",
        "\n",
        "-----\n",
        "\n",
        "## Creating Your First Tensors\n",
        "\n",
        "In this section, we will cover some of the fundamental concepts of tensors with `TensorFlow`. \n",
        "\n",
        "More specifically, we are going to cover:\n",
        "\n",
        "* Introduction to tensors\n",
        "* Getting information from tensors\n",
        "* Manipulating tensors\n",
        "* Tensors and `numpy`\n",
        "* Using `@tf.function`, which is a way to speed up your regular Python functions in `TensorFlow`\n",
        "* Using GPUs with TensorFlow (or TPUs)\n",
        "* Exercises to try for yourself"
      ]
    },
    {
      "cell_type": "code",
      "execution_count": 1,
      "id": "984763df",
      "metadata": {
        "id": "984763df",
        "colab": {
          "base_uri": "https://localhost:8080/"
        },
        "outputId": "8d05659d-d6b6-4812-db0f-9a76b67dfd82"
      },
      "outputs": [
        {
          "output_type": "stream",
          "name": "stdout",
          "text": [
            "2.9.2\n"
          ]
        }
      ],
      "source": [
        "# Import tensorflow library\n",
        "import tensorflow as tf\n",
        "\n",
        "# Check version\n",
        "print(tf.__version__)"
      ]
    },
    {
      "cell_type": "markdown",
      "source": [
        "### Creating Tensors With `tf.constant()`\n",
        "\n",
        "Tensors are multi-dimensional arrays with a uniform type (called a dtype).\n",
        "\n",
        "If you’re familiar with R array or NumPy, tensors are (kind of) like R or NumPy arrays.\n",
        "\n",
        "All tensors are immutable: you can never update the contents of a tensor, only create a new one.\n",
        "\n",
        "We will not create our first tensors with `tf.constant()`. There are different ways of creating tensors, but most tensors you work with you will not create. This is because `TensorFlow` has many built-in modules that can read in data sources and convert them to tensors, if you write the code. \n",
        "\n",
        "However, we first want to get familiar with tensors.\n",
        "\n",
        "`tf.constant()` creates a constant tensor from a tensor-like object. "
      ],
      "metadata": {
        "id": "mEyC4z-yCk8v"
      },
      "id": "mEyC4z-yCk8v"
    },
    {
      "cell_type": "code",
      "source": [
        "# Creating our first tensor with tf.constant()\n",
        "scalar = tf.constant(7)\n",
        "scalar"
      ],
      "metadata": {
        "colab": {
          "base_uri": "https://localhost:8080/"
        },
        "id": "KWmkG7LpCgXM",
        "outputId": "2d3f67b3-4125-4856-ee3b-781608483ebf"
      },
      "id": "KWmkG7LpCgXM",
      "execution_count": 2,
      "outputs": [
        {
          "output_type": "execute_result",
          "data": {
            "text/plain": [
              "<tf.Tensor: shape=(), dtype=int32, numpy=7>"
            ]
          },
          "metadata": {},
          "execution_count": 2
        }
      ]
    },
    {
      "cell_type": "code",
      "source": [
        "# Check the number of dimensions of a tensor (ndim = # of dimensions) \n",
        "# .ndim displays the numbers of axes in a tensor \n",
        "# For example, a vector has just a row, so 1 axis, a matrix has (rows x columns) so 2 axes\n",
        "scalar.ndim"
      ],
      "metadata": {
        "colab": {
          "base_uri": "https://localhost:8080/"
        },
        "id": "X_NKBMToDKqy",
        "outputId": "0c5d0815-6114-4429-f56b-65d3b632e643"
      },
      "id": "X_NKBMToDKqy",
      "execution_count": 3,
      "outputs": [
        {
          "output_type": "execute_result",
          "data": {
            "text/plain": [
              "0"
            ]
          },
          "metadata": {},
          "execution_count": 3
        }
      ]
    },
    {
      "cell_type": "code",
      "source": [
        "# Create a vector \n",
        "vector = tf.constant([10, 10])\n",
        "vector"
      ],
      "metadata": {
        "colab": {
          "base_uri": "https://localhost:8080/"
        },
        "id": "aDWsCQ76DSX6",
        "outputId": "3cdc197d-0ede-473e-f869-e12d17d2080c"
      },
      "id": "aDWsCQ76DSX6",
      "execution_count": 4,
      "outputs": [
        {
          "output_type": "execute_result",
          "data": {
            "text/plain": [
              "<tf.Tensor: shape=(2,), dtype=int32, numpy=array([10, 10], dtype=int32)>"
            ]
          },
          "metadata": {},
          "execution_count": 4
        }
      ]
    },
    {
      "cell_type": "code",
      "source": [
        "# Check the dimensions of the vector\n",
        "vector.ndim"
      ],
      "metadata": {
        "colab": {
          "base_uri": "https://localhost:8080/"
        },
        "id": "__zqWwChDiAm",
        "outputId": "55af6681-deb3-4920-f5fa-a1035dda9a34"
      },
      "id": "__zqWwChDiAm",
      "execution_count": 5,
      "outputs": [
        {
          "output_type": "execute_result",
          "data": {
            "text/plain": [
              "1"
            ]
          },
          "metadata": {},
          "execution_count": 5
        }
      ]
    },
    {
      "cell_type": "code",
      "source": [
        "# Create a matrix (has more than one dimension)\n",
        "matrix = tf.constant([[10,7],\n",
        "                      [7,10]])\n",
        "matrix"
      ],
      "metadata": {
        "colab": {
          "base_uri": "https://localhost:8080/"
        },
        "id": "LitU7b8iDnyb",
        "outputId": "792a59ae-450b-49e3-a969-342452ffe2cb"
      },
      "id": "LitU7b8iDnyb",
      "execution_count": 6,
      "outputs": [
        {
          "output_type": "execute_result",
          "data": {
            "text/plain": [
              "<tf.Tensor: shape=(2, 2), dtype=int32, numpy=\n",
              "array([[10,  7],\n",
              "       [ 7, 10]], dtype=int32)>"
            ]
          },
          "metadata": {},
          "execution_count": 6
        }
      ]
    },
    {
      "cell_type": "code",
      "source": [
        "# Check the dimensions of the matrix\n",
        "matrix.ndim"
      ],
      "metadata": {
        "colab": {
          "base_uri": "https://localhost:8080/"
        },
        "id": "nA80d00qD0bo",
        "outputId": "5aefe73a-13ca-4152-ccc8-514e44a8b51a"
      },
      "id": "nA80d00qD0bo",
      "execution_count": 7,
      "outputs": [
        {
          "output_type": "execute_result",
          "data": {
            "text/plain": [
              "2"
            ]
          },
          "metadata": {},
          "execution_count": 7
        }
      ]
    },
    {
      "cell_type": "code",
      "source": [
        "# Creating a matrix and specifying the data type with dtype parameter\n",
        "another_matrix = tf.constant([[10.,7.], \n",
        "                              [3.,2.],\n",
        "                              [8.,9.]], dtype = tf.float16)\n",
        "another_matrix"
      ],
      "metadata": {
        "colab": {
          "base_uri": "https://localhost:8080/"
        },
        "id": "Dyn0VgoiEMCx",
        "outputId": "37216fbd-0f74-48b6-ebba-bf7131ea2b69"
      },
      "id": "Dyn0VgoiEMCx",
      "execution_count": 8,
      "outputs": [
        {
          "output_type": "execute_result",
          "data": {
            "text/plain": [
              "<tf.Tensor: shape=(3, 2), dtype=float16, numpy=\n",
              "array([[10.,  7.],\n",
              "       [ 3.,  2.],\n",
              "       [ 8.,  9.]], dtype=float16)>"
            ]
          },
          "metadata": {},
          "execution_count": 8
        }
      ]
    },
    {
      "cell_type": "markdown",
      "source": [
        "The reason that we are learning the `dtype =` parameter is because, when we use `tf.constant()`, the default data type with bill `int32`. \n",
        "\n",
        "If you use smaller numbers at the end of the data types, such as `float16`, the precision (how the number is stored on your computer) will be less, so it will take up less memory. "
      ],
      "metadata": {
        "id": "ruwJ4anxEdlq"
      },
      "id": "ruwJ4anxEdlq"
    },
    {
      "cell_type": "code",
      "source": [
        "# Checking the number of dimensions of another_matrix\n",
        "another_matrix.ndim"
      ],
      "metadata": {
        "colab": {
          "base_uri": "https://localhost:8080/"
        },
        "id": "WTUaGnFVE5L5",
        "outputId": "50fae351-be35-4e28-e3ee-5da7fa16137c"
      },
      "id": "WTUaGnFVE5L5",
      "execution_count": 9,
      "outputs": [
        {
          "output_type": "execute_result",
          "data": {
            "text/plain": [
              "2"
            ]
          },
          "metadata": {},
          "execution_count": 9
        }
      ]
    },
    {
      "cell_type": "markdown",
      "source": [
        "Even though the shape is (3,2) for `another_matrix`, the number of dimensions is 2. The total number of dimensions is the number of elements that is in the shape. \n",
        "\n",
        "So, a scalar will have no dimensions, a vector 1 dimension, and a matrix 2 dimensions.\n",
        "\n",
        "How can we increase the number of dimensions?"
      ],
      "metadata": {
        "id": "3SQWKaFnFBkd"
      },
      "id": "3SQWKaFnFBkd"
    },
    {
      "cell_type": "code",
      "source": [
        "# Let's create a tensor\n",
        "tensor = tf.constant([[[1,2,3],\n",
        "                       [4,5,6]],\n",
        "                       [[7,8,9],\n",
        "                       [10,11,12]],\n",
        "                       [[13,14,15],\n",
        "                       [16,17,18]]])\n",
        "tensor"
      ],
      "metadata": {
        "colab": {
          "base_uri": "https://localhost:8080/"
        },
        "id": "nMiRx2EsFS1C",
        "outputId": "384ff052-e3a1-4783-af2b-dd602420575e"
      },
      "id": "nMiRx2EsFS1C",
      "execution_count": 10,
      "outputs": [
        {
          "output_type": "execute_result",
          "data": {
            "text/plain": [
              "<tf.Tensor: shape=(3, 2, 3), dtype=int32, numpy=\n",
              "array([[[ 1,  2,  3],\n",
              "        [ 4,  5,  6]],\n",
              "\n",
              "       [[ 7,  8,  9],\n",
              "        [10, 11, 12]],\n",
              "\n",
              "       [[13, 14, 15],\n",
              "        [16, 17, 18]]], dtype=int32)>"
            ]
          },
          "metadata": {},
          "execution_count": 10
        }
      ]
    },
    {
      "cell_type": "markdown",
      "source": [
        "Now we have an extra element in the shape. It is now (3,2,3)."
      ],
      "metadata": {
        "id": "kQtS8xxRGEOe"
      },
      "id": "kQtS8xxRGEOe"
    },
    {
      "cell_type": "code",
      "source": [
        "# Check the number of dimensions for the tensor\n",
        "tensor.ndim"
      ],
      "metadata": {
        "colab": {
          "base_uri": "https://localhost:8080/"
        },
        "id": "q8Znbe6IGI3w",
        "outputId": "d2585ff9-2bb4-44f8-8831-e6e184d40314"
      },
      "id": "q8Znbe6IGI3w",
      "execution_count": 11,
      "outputs": [
        {
          "output_type": "execute_result",
          "data": {
            "text/plain": [
              "3"
            ]
          },
          "metadata": {},
          "execution_count": 11
        }
      ]
    },
    {
      "cell_type": "markdown",
      "source": [
        "The important thing to note is that, even though we have given them different names above, we will always refer to them as tensors. \n",
        "\n",
        "What we have created so far:\n",
        "\n",
        "* Scalar = single number\n",
        "* Vector = number with direction/list of numbers\n",
        "* Matrix = 2-dimensional array of numbers\n",
        "* Tensor = an n-dimensional array of numbers (where n can be any number, a 0-dimensional tensor is a scalar, a 1-dimensional tensor is a vector)\n",
        "\n",
        "### Creating Tensors With `tf.Variable`"
      ],
      "metadata": {
        "id": "45WR9wT4Gc4D"
      },
      "id": "45WR9wT4Gc4D"
    },
    {
      "cell_type": "code",
      "source": [
        "# Create the same tensor with tf.Variable as above\n",
        "changeable_tensor = tf.Variable([10,7])\n",
        "unchangeable_tensor = tf.constant([10,7])\n",
        "changeable_tensor, unchangeable_tensor"
      ],
      "metadata": {
        "colab": {
          "base_uri": "https://localhost:8080/"
        },
        "id": "ZDsboww8Hd6v",
        "outputId": "8907a5b5-4abe-478b-ae98-c2eec9c4053e"
      },
      "id": "ZDsboww8Hd6v",
      "execution_count": 12,
      "outputs": [
        {
          "output_type": "execute_result",
          "data": {
            "text/plain": [
              "(<tf.Variable 'Variable:0' shape=(2,) dtype=int32, numpy=array([10,  7], dtype=int32)>,\n",
              " <tf.Tensor: shape=(2,), dtype=int32, numpy=array([10,  7], dtype=int32)>)"
            ]
          },
          "metadata": {},
          "execution_count": 12
        }
      ]
    },
    {
      "cell_type": "code",
      "source": [
        "# What happens if we try to change an element in our changeable tensor?\n",
        "changeable_tensor[0] = 7\n",
        "changeable_tensor"
      ],
      "metadata": {
        "colab": {
          "base_uri": "https://localhost:8080/",
          "height": 200
        },
        "id": "S12lAO9NHvuU",
        "outputId": "48d7552b-d255-4019-eacd-bdb28377cbc9"
      },
      "id": "S12lAO9NHvuU",
      "execution_count": 13,
      "outputs": [
        {
          "output_type": "error",
          "ename": "TypeError",
          "evalue": "ignored",
          "traceback": [
            "\u001b[0;31m---------------------------------------------------------------------------\u001b[0m",
            "\u001b[0;31mTypeError\u001b[0m                                 Traceback (most recent call last)",
            "\u001b[0;32m<ipython-input-13-02167fe4583f>\u001b[0m in \u001b[0;36m<module>\u001b[0;34m\u001b[0m\n\u001b[1;32m      1\u001b[0m \u001b[0;31m# What happens if we try to change an element in our changeable tensor?\u001b[0m\u001b[0;34m\u001b[0m\u001b[0;34m\u001b[0m\u001b[0;34m\u001b[0m\u001b[0m\n\u001b[0;32m----> 2\u001b[0;31m \u001b[0mchangeable_tensor\u001b[0m\u001b[0;34m[\u001b[0m\u001b[0;36m0\u001b[0m\u001b[0;34m]\u001b[0m \u001b[0;34m=\u001b[0m \u001b[0;36m7\u001b[0m\u001b[0;34m\u001b[0m\u001b[0;34m\u001b[0m\u001b[0m\n\u001b[0m\u001b[1;32m      3\u001b[0m \u001b[0mchangeable_tensor\u001b[0m\u001b[0;34m\u001b[0m\u001b[0;34m\u001b[0m\u001b[0m\n",
            "\u001b[0;31mTypeError\u001b[0m: 'ResourceVariable' object does not support item assignment"
          ]
        }
      ]
    },
    {
      "cell_type": "code",
      "source": [
        "# How about we try .assign()\n",
        "changeable_tensor[0].assign(7)\n",
        "changeable_tensor"
      ],
      "metadata": {
        "id": "6lCXD5UJIVdv",
        "colab": {
          "base_uri": "https://localhost:8080/"
        },
        "outputId": "f6b1629a-e33a-4ab1-a899-a370476243b3"
      },
      "id": "6lCXD5UJIVdv",
      "execution_count": 14,
      "outputs": [
        {
          "output_type": "execute_result",
          "data": {
            "text/plain": [
              "<tf.Variable 'Variable:0' shape=(2,) dtype=int32, numpy=array([7, 7], dtype=int32)>"
            ]
          },
          "metadata": {},
          "execution_count": 14
        }
      ]
    },
    {
      "cell_type": "code",
      "source": [
        "# Let's try to change our unchangeable tensor\n",
        "unchangeable_tensor[0] = 7"
      ],
      "metadata": {
        "colab": {
          "base_uri": "https://localhost:8080/",
          "height": 183
        },
        "id": "vsjpZX9wIoOf",
        "outputId": "45d2428c-88d4-4164-eff0-97cb25e0b1d7"
      },
      "id": "vsjpZX9wIoOf",
      "execution_count": 15,
      "outputs": [
        {
          "output_type": "error",
          "ename": "TypeError",
          "evalue": "ignored",
          "traceback": [
            "\u001b[0;31m---------------------------------------------------------------------------\u001b[0m",
            "\u001b[0;31mTypeError\u001b[0m                                 Traceback (most recent call last)",
            "\u001b[0;32m<ipython-input-15-f932d5569fdb>\u001b[0m in \u001b[0;36m<module>\u001b[0;34m\u001b[0m\n\u001b[1;32m      1\u001b[0m \u001b[0;31m# Let's try to change our unchangeable tensor\u001b[0m\u001b[0;34m\u001b[0m\u001b[0;34m\u001b[0m\u001b[0;34m\u001b[0m\u001b[0m\n\u001b[0;32m----> 2\u001b[0;31m \u001b[0munchangeable_tensor\u001b[0m\u001b[0;34m[\u001b[0m\u001b[0;36m0\u001b[0m\u001b[0;34m]\u001b[0m \u001b[0;34m=\u001b[0m \u001b[0;36m7\u001b[0m\u001b[0;34m\u001b[0m\u001b[0;34m\u001b[0m\u001b[0m\n\u001b[0m",
            "\u001b[0;31mTypeError\u001b[0m: 'tensorflow.python.framework.ops.EagerTensor' object does not support item assignment"
          ]
        }
      ]
    },
    {
      "cell_type": "code",
      "source": [
        "# Now let's try assign\n",
        "unchangeable_tensor[0].assign(7)\n",
        "unchangeable_tensor"
      ],
      "metadata": {
        "colab": {
          "base_uri": "https://localhost:8080/",
          "height": 321
        },
        "id": "pnohIKSQIzQB",
        "outputId": "eadd748c-ff07-4c20-d343-084b5a122f21"
      },
      "id": "pnohIKSQIzQB",
      "execution_count": 16,
      "outputs": [
        {
          "output_type": "error",
          "ename": "AttributeError",
          "evalue": "ignored",
          "traceback": [
            "\u001b[0;31m---------------------------------------------------------------------------\u001b[0m",
            "\u001b[0;31mAttributeError\u001b[0m                            Traceback (most recent call last)",
            "\u001b[0;32m<ipython-input-16-e0c9f9313bfc>\u001b[0m in \u001b[0;36m<module>\u001b[0;34m\u001b[0m\n\u001b[1;32m      1\u001b[0m \u001b[0;31m# Now let's try assign\u001b[0m\u001b[0;34m\u001b[0m\u001b[0;34m\u001b[0m\u001b[0;34m\u001b[0m\u001b[0m\n\u001b[0;32m----> 2\u001b[0;31m \u001b[0munchangeable_tensor\u001b[0m\u001b[0;34m[\u001b[0m\u001b[0;36m0\u001b[0m\u001b[0;34m]\u001b[0m\u001b[0;34m.\u001b[0m\u001b[0massign\u001b[0m\u001b[0;34m(\u001b[0m\u001b[0;36m7\u001b[0m\u001b[0;34m)\u001b[0m\u001b[0;34m\u001b[0m\u001b[0;34m\u001b[0m\u001b[0m\n\u001b[0m\u001b[1;32m      3\u001b[0m \u001b[0munchangeable_tensor\u001b[0m\u001b[0;34m\u001b[0m\u001b[0;34m\u001b[0m\u001b[0m\n",
            "\u001b[0;32m/usr/local/lib/python3.7/dist-packages/tensorflow/python/framework/ops.py\u001b[0m in \u001b[0;36m__getattr__\u001b[0;34m(self, name)\u001b[0m\n\u001b[1;32m    444\u001b[0m         \u001b[0mnp_config\u001b[0m\u001b[0;34m.\u001b[0m\u001b[0menable_numpy_behavior\u001b[0m\u001b[0;34m(\u001b[0m\u001b[0;34m)\u001b[0m\u001b[0;34m\u001b[0m\u001b[0;34m\u001b[0m\u001b[0m\n\u001b[1;32m    445\u001b[0m       \"\"\")\n\u001b[0;32m--> 446\u001b[0;31m     \u001b[0mself\u001b[0m\u001b[0;34m.\u001b[0m\u001b[0m__getattribute__\u001b[0m\u001b[0;34m(\u001b[0m\u001b[0mname\u001b[0m\u001b[0;34m)\u001b[0m\u001b[0;34m\u001b[0m\u001b[0;34m\u001b[0m\u001b[0m\n\u001b[0m\u001b[1;32m    447\u001b[0m \u001b[0;34m\u001b[0m\u001b[0m\n\u001b[1;32m    448\u001b[0m   \u001b[0;34m@\u001b[0m\u001b[0mstaticmethod\u001b[0m\u001b[0;34m\u001b[0m\u001b[0;34m\u001b[0m\u001b[0m\n",
            "\u001b[0;31mAttributeError\u001b[0m: 'tensorflow.python.framework.ops.EagerTensor' object has no attribute 'assign'"
          ]
        }
      ]
    },
    {
      "cell_type": "markdown",
      "source": [
        "So, why can we change some tensors and why can we not change others? When we are writing neural network code, we may want some of our tensor values to be changed and some not changed. So, there is a variable tensor, which can be changed, and a constant tensor, which cannot be changed.\n",
        "\n",
        "A lot of times you won't have to make the decision to go between a variable tensor and a constant tensor. The decision will be made for you when `TensorFlow` creates tensors for your neural network.\n",
        "\n",
        "If ever in doubt, use `tf.constant` and change it later if needed. \n",
        "\n",
        "### Creating random tensors\n",
        "\n",
        "Random tensors are tensors of some arbitrary size which contain random numbers. \n",
        "\n",
        "Why would we ever want to create a tensor filled with random numbers? We can use random tensors to randomlyinitialize the weights of our NN. "
      ],
      "metadata": {
        "id": "CMzsnh1wJALP"
      },
      "id": "CMzsnh1wJALP"
    },
    {
      "cell_type": "code",
      "source": [
        "# Creating two random (but the same) tensors\n",
        "random_1 = tf.random.Generator.from_seed(42) # set seed for reproducibility\n",
        "random_1 = random_1.normal(shape=(3, 2)) \n",
        "random_1"
      ],
      "metadata": {
        "colab": {
          "base_uri": "https://localhost:8080/"
        },
        "id": "pvMFfxiXL3-L",
        "outputId": "2d1c6049-975a-468d-c812-beb28624418f"
      },
      "id": "pvMFfxiXL3-L",
      "execution_count": 17,
      "outputs": [
        {
          "output_type": "execute_result",
          "data": {
            "text/plain": [
              "<tf.Tensor: shape=(3, 2), dtype=float32, numpy=\n",
              "array([[-0.7565803 , -0.06854702],\n",
              "       [ 0.07595026, -1.2573844 ],\n",
              "       [-0.23193765, -1.8107855 ]], dtype=float32)>"
            ]
          },
          "metadata": {},
          "execution_count": 17
        }
      ]
    },
    {
      "cell_type": "markdown",
      "source": [
        "We have used `.normal` here, but we can also use `.uniform`. The first will give us values from the normal distribution, while the second will give us values from a uniform distribution. The uniform distribution has a constant probability. \n",
        "\n",
        "In practice, when writing random tensors, a lot of this will be done behind the scenes."
      ],
      "metadata": {
        "id": "ID33Yhy1MWqC"
      },
      "id": "ID33Yhy1MWqC"
    },
    {
      "cell_type": "code",
      "source": [
        "# Creating another random tensor drawing from uniform distribution\n",
        "random_2 = tf.random.Generator.from_seed(42)\n",
        "random_2 = random_2.uniform(shape = (3,2))\n",
        "random_2"
      ],
      "metadata": {
        "colab": {
          "base_uri": "https://localhost:8080/"
        },
        "id": "_4N9B3v3Mzf-",
        "outputId": "cd90c1fe-e017-4172-ec65-39c2ed7b4c31"
      },
      "id": "_4N9B3v3Mzf-",
      "execution_count": 18,
      "outputs": [
        {
          "output_type": "execute_result",
          "data": {
            "text/plain": [
              "<tf.Tensor: shape=(3, 2), dtype=float32, numpy=\n",
              "array([[0.7493447 , 0.73561966],\n",
              "       [0.45230794, 0.49039817],\n",
              "       [0.1889317 , 0.52027524]], dtype=float32)>"
            ]
          },
          "metadata": {},
          "execution_count": 18
        }
      ]
    },
    {
      "cell_type": "code",
      "source": [
        "# Are the tensors equal?\n",
        "random_1 == random_2"
      ],
      "metadata": {
        "colab": {
          "base_uri": "https://localhost:8080/"
        },
        "id": "br22XyfzNJGj",
        "outputId": "9643b29f-f68b-4dc2-ecf5-547189ecd9fe"
      },
      "id": "br22XyfzNJGj",
      "execution_count": 19,
      "outputs": [
        {
          "output_type": "execute_result",
          "data": {
            "text/plain": [
              "<tf.Tensor: shape=(3, 2), dtype=bool, numpy=\n",
              "array([[False, False],\n",
              "       [False, False],\n",
              "       [False, False]])>"
            ]
          },
          "metadata": {},
          "execution_count": 19
        }
      ]
    },
    {
      "cell_type": "markdown",
      "source": [
        "So, when drawing from different distributions, the tensors will be different. One thing to note that, is when you set the seed, then the tensors are pseudo-random since it will generate the random numbers from that initialization point. If we change the seed, it will change the numbers.\n",
        "\n",
        "### Shuffling the Order of Elements in a Tensor\n",
        "\n",
        "When a NN starts to learn, the weights are typically initialized with random numbers. Why would we want to shuffle the order of elements in a tensor? We want \n",
        "want to shuffle the order of our input tensor (data) so that the order of the input data does not affect the way the NN learns. For example, if we have 10,000 of one image first, then 5,000 of another, we do not want our NN to learn its parameters solely based off the the first 10,000 at once then be exposed to the last 5,000. Thus, we can shuffle the order so it can learn from both images at the same time. "
      ],
      "metadata": {
        "id": "D3r2AVdxNX2w"
      },
      "id": "D3r2AVdxNX2w"
    },
    {
      "cell_type": "code",
      "source": [
        "# Shuffle a tensor (valuable for when you want to shuffle your data so the data so the inherent order does not affect learning)\n",
        "# Making the tensor\n",
        "not_shuffled = tf.constant([[10,7],\n",
        "                            [3,4],\n",
        "                            [2,5]])\n",
        "not_shuffled.ndim\n",
        "\n",
        "not_shuffled"
      ],
      "metadata": {
        "colab": {
          "base_uri": "https://localhost:8080/"
        },
        "id": "RUF-m_yhO0nM",
        "outputId": "6d62c0fa-7f88-4dde-90c8-b44063d57660"
      },
      "id": "RUF-m_yhO0nM",
      "execution_count": 20,
      "outputs": [
        {
          "output_type": "execute_result",
          "data": {
            "text/plain": [
              "<tf.Tensor: shape=(3, 2), dtype=int32, numpy=\n",
              "array([[10,  7],\n",
              "       [ 3,  4],\n",
              "       [ 2,  5]], dtype=int32)>"
            ]
          },
          "metadata": {},
          "execution_count": 20
        }
      ]
    },
    {
      "cell_type": "code",
      "source": [
        "# Shuffling the tensor - shuffles a tensor along the first dimension, in this case rows\n",
        "# The elements in the second dimension, columns, stay in the same position \n",
        "tf.random.shuffle(not_shuffled)"
      ],
      "metadata": {
        "colab": {
          "base_uri": "https://localhost:8080/"
        },
        "id": "SZ5xR7efP4eU",
        "outputId": "9f118531-5068-4e6c-941b-0dad53563622"
      },
      "id": "SZ5xR7efP4eU",
      "execution_count": 21,
      "outputs": [
        {
          "output_type": "execute_result",
          "data": {
            "text/plain": [
              "<tf.Tensor: shape=(3, 2), dtype=int32, numpy=\n",
              "array([[ 2,  5],\n",
              "       [10,  7],\n",
              "       [ 3,  4]], dtype=int32)>"
            ]
          },
          "metadata": {},
          "execution_count": 21
        }
      ]
    },
    {
      "cell_type": "code",
      "source": [
        "# Shuffling with a seed set so we can reproduce the results\n",
        "tf.random.shuffle(not_shuffled, seed = 42)"
      ],
      "metadata": {
        "colab": {
          "base_uri": "https://localhost:8080/"
        },
        "id": "vtQxJl9UQZ7c",
        "outputId": "8aec04ee-8a86-4509-ab97-f8a5d75d67cf"
      },
      "id": "vtQxJl9UQZ7c",
      "execution_count": 22,
      "outputs": [
        {
          "output_type": "execute_result",
          "data": {
            "text/plain": [
              "<tf.Tensor: shape=(3, 2), dtype=int32, numpy=\n",
              "array([[ 2,  5],\n",
              "       [ 3,  4],\n",
              "       [10,  7]], dtype=int32)>"
            ]
          },
          "metadata": {},
          "execution_count": 22
        }
      ]
    },
    {
      "cell_type": "markdown",
      "source": [
        "However, when shuffling this setting `seed` in `.shuffle` does not always give the same order. Why is this happening? There are 2 seeds in `TensorFlow`, global and operational."
      ],
      "metadata": {
        "id": "Cw-uBN4nRZA7"
      },
      "id": "Cw-uBN4nRZA7"
    },
    {
      "cell_type": "code",
      "source": [
        "# Global level seed\n",
        "tf.random.set_seed(42)\n",
        "\n",
        "# Operation level seed\n",
        "tf.random.shuffle(not_shuffled, seed = 42)"
      ],
      "metadata": {
        "colab": {
          "base_uri": "https://localhost:8080/"
        },
        "id": "aBEJe2qQRm2f",
        "outputId": "d49e1b13-dfe3-4c82-d6e1-12644ce243f0"
      },
      "id": "aBEJe2qQRm2f",
      "execution_count": 23,
      "outputs": [
        {
          "output_type": "execute_result",
          "data": {
            "text/plain": [
              "<tf.Tensor: shape=(3, 2), dtype=int32, numpy=\n",
              "array([[10,  7],\n",
              "       [ 3,  4],\n",
              "       [ 2,  5]], dtype=int32)>"
            ]
          },
          "metadata": {},
          "execution_count": 23
        }
      ]
    },
    {
      "cell_type": "markdown",
      "source": [
        "Homework: Read through the `TensorFlow` documentation about random seed generation: https://www.tensorflow.org/api_docs/python/tf/random/set_seed and practice writing 5 random tensors and shuffling them. In other words, create some tensors using `tf.constant` and try to get the shuffle order using `tf.random.set_seed` and a combination of `seed =`. \n",
        "\n",
        "Instead of doing this, we will look at an example from stack overflow: https://stackoverflow.com/questions/61078946/how-to-get-reproducible-results-keras-tensorflow\n",
        "\n",
        "Operations that rely on a random seed actually derive it from two seeds: the global and operation-level seeds. `tf.random.set_seed()` sets the global seed.\n",
        "\n",
        "Its interactions with operation-level seeds are as follows: \n",
        "\n",
        "1. If neither the global seed nor the operation seed is set: A randomly picked seed is used for this operation.\n",
        "2. If the operation seed is not set but the global seed is set: The system picks an operation seed from a stream of seeds determined by the global seed.\n",
        "3. If the operation seed is set, but the global seed is not set: A default global seed and the specified operation seed are used to determine the random sequence.\n",
        "4. If both the global and the operation seed are set: Both seeds are used in conjunction to determine the random sequence.\n",
        "\n",
        "First Scenario:\n",
        "\n",
        "A random seed will be picked by default. This can be easily noticed with the results. It will have different values every time you re-run the program or call the code multiple times."
      ],
      "metadata": {
        "id": "2OY54pR1R6Hc"
      },
      "id": "2OY54pR1R6Hc"
    },
    {
      "cell_type": "code",
      "source": [
        "x_train = tf.random.normal((10,1), 1, 1, dtype=tf.float32)\n",
        "print(x_train)"
      ],
      "metadata": {
        "colab": {
          "base_uri": "https://localhost:8080/"
        },
        "id": "ir1sLAIjzQ6S",
        "outputId": "c3166397-d38a-463d-a250-8045858ad2ed"
      },
      "id": "ir1sLAIjzQ6S",
      "execution_count": 24,
      "outputs": [
        {
          "output_type": "stream",
          "name": "stdout",
          "text": [
            "tf.Tensor(\n",
            "[[ 1.3274685 ]\n",
            " [ 0.1573742 ]\n",
            " [ 1.3194337 ]\n",
            " [-0.40755188]\n",
            " [-1.3880599 ]\n",
            " [-0.03924787]\n",
            " [ 0.44267678]\n",
            " [ 1.539707  ]\n",
            " [ 2.6994324 ]\n",
            " [ 1.2889366 ]], shape=(10, 1), dtype=float32)\n"
          ]
        }
      ]
    },
    {
      "cell_type": "markdown",
      "source": [
        "Second Scenario:\n",
        "\n",
        "The global is set but the operation has not been set. Although it generated a different seed from first and second random. If you re-run or restart the code. The seed for both will still be the same. It both generated the same result over and over again."
      ],
      "metadata": {
        "id": "ZOLbJ0SK5KFQ"
      },
      "id": "ZOLbJ0SK5KFQ"
    },
    {
      "cell_type": "code",
      "source": [
        "tf.random.set_seed(2)\n",
        "first = tf.random.normal((10,1), 1, 1, dtype=tf.float32)\n",
        "print(first)\n",
        "sec = tf.random.normal((10,1), 1, 1, dtype=tf.float32)\n",
        "print(sec)"
      ],
      "metadata": {
        "colab": {
          "base_uri": "https://localhost:8080/"
        },
        "id": "zhyllEBF5Ra0",
        "outputId": "cda3a742-4f62-44f3-a944-f01b8af8ef15"
      },
      "id": "zhyllEBF5Ra0",
      "execution_count": 25,
      "outputs": [
        {
          "output_type": "stream",
          "name": "stdout",
          "text": [
            "tf.Tensor(\n",
            "[[ 1.4361689 ]\n",
            " [-0.9093795 ]\n",
            " [ 2.3789067 ]\n",
            " [-0.04058516]\n",
            " [ 0.9990442 ]\n",
            " [ 1.169478  ]\n",
            " [ 1.915631  ]\n",
            " [ 1.5512487 ]\n",
            " [ 0.86503017]\n",
            " [ 0.93794656]], shape=(10, 1), dtype=float32)\n",
            "tf.Tensor(\n",
            "[[ 0.9637781 ]\n",
            " [ 1.966063  ]\n",
            " [-0.10654044]\n",
            " [ 1.2994058 ]\n",
            " [ 1.7703598 ]\n",
            " [ 1.8225965 ]\n",
            " [ 3.8443177 ]\n",
            " [ 2.1806242 ]\n",
            " [ 0.5304141 ]\n",
            " [-0.428483  ]], shape=(10, 1), dtype=float32)\n"
          ]
        }
      ]
    },
    {
      "cell_type": "markdown",
      "source": [
        "Third Scenario:\n",
        "\n",
        "For this scenario, where the operation seed is set but not the global. If you re-run the code it will give you different results but if you restart the runtime if will give you the same sequence of results from the previous run."
      ],
      "metadata": {
        "id": "9xYH6NPP5ZGQ"
      },
      "id": "9xYH6NPP5ZGQ"
    },
    {
      "cell_type": "code",
      "source": [
        "x_train = tf.random.normal((10,1), 1, 1, dtype=tf.float32, seed=2)\n",
        "print(x_train)"
      ],
      "metadata": {
        "colab": {
          "base_uri": "https://localhost:8080/"
        },
        "id": "5Xfo37zQ5gx7",
        "outputId": "67fa7fa3-e38f-42a1-c322-a013338aad11"
      },
      "id": "5Xfo37zQ5gx7",
      "execution_count": 26,
      "outputs": [
        {
          "output_type": "stream",
          "name": "stdout",
          "text": [
            "tf.Tensor(\n",
            "[[ 0.21425569]\n",
            " [ 0.24459338]\n",
            " [ 0.00462741]\n",
            " [-0.97373486]\n",
            " [ 1.9129689 ]\n",
            " [ 0.26357275]\n",
            " [ 2.1752949 ]\n",
            " [ 3.2621553 ]\n",
            " [-0.3332491 ]\n",
            " [ 1.109746  ]], shape=(10, 1), dtype=float32)\n"
          ]
        }
      ]
    },
    {
      "cell_type": "markdown",
      "source": [
        "Fourth Scenario:\n",
        "\n",
        "Both seeds will be used to determine the random sequence. Changing the global and operation seed will give different results but restarting the runtime with the same seed will still give the same results."
      ],
      "metadata": {
        "id": "p_UcX_oS5le9"
      },
      "id": "p_UcX_oS5le9"
    },
    {
      "cell_type": "code",
      "source": [
        "tf.random.set_seed(3)\n",
        "x_train = tf.random.normal((10,1), 1, 1, dtype=tf.float32, seed=1)\n",
        "print(x_train) "
      ],
      "metadata": {
        "colab": {
          "base_uri": "https://localhost:8080/"
        },
        "id": "cVVLYORb5w-w",
        "outputId": "720a8feb-f7f9-4ea7-fc49-343f5a372f62"
      },
      "id": "cVVLYORb5w-w",
      "execution_count": 27,
      "outputs": [
        {
          "output_type": "stream",
          "name": "stdout",
          "text": [
            "tf.Tensor(\n",
            "[[ 0.9764641 ]\n",
            " [ 0.2919563 ]\n",
            " [ 1.7906704 ]\n",
            " [ 1.5610087 ]\n",
            " [-0.47049785]\n",
            " [-0.61002433]\n",
            " [ 2.100048  ]\n",
            " [-0.02083969]\n",
            " [ 0.32003522]\n",
            " [ 2.0706978 ]], shape=(10, 1), dtype=float32)\n"
          ]
        }
      ]
    },
    {
      "cell_type": "markdown",
      "source": [
        "By setting the global seed, it always gives the same results.\n",
        "\n",
        "From the course, it looks like, if we want our shuffled tensors to be in the same order, we have to use the global level random seed as well as the operation level random seed.\n",
        "\n",
        "We need these seeds so our NN experiments yield the same results. Since the parameter intialization is random, it can yield different results without the same seed. \n",
        "\n",
        "### Creating Tensors From `NumPy` Arrays\n",
        "\n",
        "For many `numpy` operations, `TensorFlow` has similar operations. "
      ],
      "metadata": {
        "id": "_vPOurQc537v"
      },
      "id": "_vPOurQc537v"
    },
    {
      "cell_type": "code",
      "source": [
        "# Making a tensor full of ones\n",
        "tf.ones([10,7])"
      ],
      "metadata": {
        "colab": {
          "base_uri": "https://localhost:8080/"
        },
        "id": "LM8eRYJgMso1",
        "outputId": "45f31e23-bb75-49a8-f417-a6bea1df67eb"
      },
      "id": "LM8eRYJgMso1",
      "execution_count": 28,
      "outputs": [
        {
          "output_type": "execute_result",
          "data": {
            "text/plain": [
              "<tf.Tensor: shape=(10, 7), dtype=float32, numpy=\n",
              "array([[1., 1., 1., 1., 1., 1., 1.],\n",
              "       [1., 1., 1., 1., 1., 1., 1.],\n",
              "       [1., 1., 1., 1., 1., 1., 1.],\n",
              "       [1., 1., 1., 1., 1., 1., 1.],\n",
              "       [1., 1., 1., 1., 1., 1., 1.],\n",
              "       [1., 1., 1., 1., 1., 1., 1.],\n",
              "       [1., 1., 1., 1., 1., 1., 1.],\n",
              "       [1., 1., 1., 1., 1., 1., 1.],\n",
              "       [1., 1., 1., 1., 1., 1., 1.],\n",
              "       [1., 1., 1., 1., 1., 1., 1.]], dtype=float32)>"
            ]
          },
          "metadata": {},
          "execution_count": 28
        }
      ]
    },
    {
      "cell_type": "code",
      "source": [
        "# Create a tensor of all zeros - the shape can also be in parantheses\n",
        "tf.zeros((10,7))"
      ],
      "metadata": {
        "colab": {
          "base_uri": "https://localhost:8080/"
        },
        "id": "YRr_bI3HMy5c",
        "outputId": "db45dc66-3cb6-48c7-9f45-f8122acae0ca"
      },
      "id": "YRr_bI3HMy5c",
      "execution_count": 29,
      "outputs": [
        {
          "output_type": "execute_result",
          "data": {
            "text/plain": [
              "<tf.Tensor: shape=(10, 7), dtype=float32, numpy=\n",
              "array([[0., 0., 0., 0., 0., 0., 0.],\n",
              "       [0., 0., 0., 0., 0., 0., 0.],\n",
              "       [0., 0., 0., 0., 0., 0., 0.],\n",
              "       [0., 0., 0., 0., 0., 0., 0.],\n",
              "       [0., 0., 0., 0., 0., 0., 0.],\n",
              "       [0., 0., 0., 0., 0., 0., 0.],\n",
              "       [0., 0., 0., 0., 0., 0., 0.],\n",
              "       [0., 0., 0., 0., 0., 0., 0.],\n",
              "       [0., 0., 0., 0., 0., 0., 0.],\n",
              "       [0., 0., 0., 0., 0., 0., 0.]], dtype=float32)>"
            ]
          },
          "metadata": {},
          "execution_count": 29
        }
      ]
    },
    {
      "cell_type": "markdown",
      "source": [
        "The main difference between `numpy` arrays and `TensorFlow` tensors is that tensors can be run on a GPU (much faster for numerical computing)."
      ],
      "metadata": {
        "id": "Yrg__iMsNRxq"
      },
      "id": "Yrg__iMsNRxq"
    },
    {
      "cell_type": "code",
      "source": [
        "# You can also turn numpy arrays into tensorflow tensors\n",
        "# X = tf.constant(matrix); usually capital\n",
        "# y = tf.constant(vector); usually lowercase\n",
        "import numpy as np\n",
        "numpy_A = np.arange(1, 25, dtype = np.int32) # Create a numpy array between 1 and 25\n",
        "\n",
        "# How do you convert this to a tensor?\n",
        "A = tf.constant(numpy_A) # We can just put the numpy array in the tf.constant() function\n",
        "A"
      ],
      "metadata": {
        "colab": {
          "base_uri": "https://localhost:8080/"
        },
        "id": "AkNS9flpM9Wo",
        "outputId": "b9725b75-30c3-4170-c8cb-d7bebbde8010"
      },
      "id": "AkNS9flpM9Wo",
      "execution_count": 30,
      "outputs": [
        {
          "output_type": "execute_result",
          "data": {
            "text/plain": [
              "<tf.Tensor: shape=(24,), dtype=int32, numpy=\n",
              "array([ 1,  2,  3,  4,  5,  6,  7,  8,  9, 10, 11, 12, 13, 14, 15, 16, 17,\n",
              "       18, 19, 20, 21, 22, 23, 24], dtype=int32)>"
            ]
          },
          "metadata": {},
          "execution_count": 30
        }
      ]
    },
    {
      "cell_type": "code",
      "source": [
        "# What if we wanted to change the shape? For example, making the array a 3-D tensor\n",
        "# \n",
        "A = tf.constant(numpy_A, shape = (2, 3, 4))\n",
        "B = tf.constant(numpy_A)\n",
        "A, B"
      ],
      "metadata": {
        "colab": {
          "base_uri": "https://localhost:8080/"
        },
        "id": "6hxW3OVzOCAN",
        "outputId": "9fe49bea-c44b-4fc9-953a-b0b480b8c937"
      },
      "id": "6hxW3OVzOCAN",
      "execution_count": 31,
      "outputs": [
        {
          "output_type": "execute_result",
          "data": {
            "text/plain": [
              "(<tf.Tensor: shape=(2, 3, 4), dtype=int32, numpy=\n",
              " array([[[ 1,  2,  3,  4],\n",
              "         [ 5,  6,  7,  8],\n",
              "         [ 9, 10, 11, 12]],\n",
              " \n",
              "        [[13, 14, 15, 16],\n",
              "         [17, 18, 19, 20],\n",
              "         [21, 22, 23, 24]]], dtype=int32)>,\n",
              " <tf.Tensor: shape=(24,), dtype=int32, numpy=\n",
              " array([ 1,  2,  3,  4,  5,  6,  7,  8,  9, 10, 11, 12, 13, 14, 15, 16, 17,\n",
              "        18, 19, 20, 21, 22, 23, 24], dtype=int32)>)"
            ]
          },
          "metadata": {},
          "execution_count": 31
        }
      ]
    },
    {
      "cell_type": "markdown",
      "source": [
        "If you want to readjust the shape of the tensor or `numpy` array, the new shape in `shape = ()` must add up to give the same number of elements in the original tensor. So, above, we put `(2,3,4)` and we were able to reshape the array since 2\\*3\\*4 = 24, which has the same amount of elements as the original array. However, if we change the 4 to a 5, we will get an error: "
      ],
      "metadata": {
        "id": "AZy3KZ7fOMgr"
      },
      "id": "AZy3KZ7fOMgr"
    },
    {
      "cell_type": "code",
      "source": [
        "# Changing 4 to 5 to demonstrate\n",
        "A = tf.constant(numpy_A, shape = (2, 3, 5))"
      ],
      "metadata": {
        "colab": {
          "base_uri": "https://localhost:8080/",
          "height": 345
        },
        "id": "oADIjeh5OwkB",
        "outputId": "9eca1a13-3686-403d-a476-d5e584525b61"
      },
      "id": "oADIjeh5OwkB",
      "execution_count": 32,
      "outputs": [
        {
          "output_type": "error",
          "ename": "TypeError",
          "evalue": "ignored",
          "traceback": [
            "\u001b[0;31m---------------------------------------------------------------------------\u001b[0m",
            "\u001b[0;31mTypeError\u001b[0m                                 Traceback (most recent call last)",
            "\u001b[0;32m<ipython-input-32-da9fcf1989aa>\u001b[0m in \u001b[0;36m<module>\u001b[0;34m\u001b[0m\n\u001b[1;32m      1\u001b[0m \u001b[0;31m# Changing 4 to 5 to demonstrate\u001b[0m\u001b[0;34m\u001b[0m\u001b[0;34m\u001b[0m\u001b[0;34m\u001b[0m\u001b[0m\n\u001b[0;32m----> 2\u001b[0;31m \u001b[0mA\u001b[0m \u001b[0;34m=\u001b[0m \u001b[0mtf\u001b[0m\u001b[0;34m.\u001b[0m\u001b[0mconstant\u001b[0m\u001b[0;34m(\u001b[0m\u001b[0mnumpy_A\u001b[0m\u001b[0;34m,\u001b[0m \u001b[0mshape\u001b[0m \u001b[0;34m=\u001b[0m \u001b[0;34m(\u001b[0m\u001b[0;36m2\u001b[0m\u001b[0;34m,\u001b[0m \u001b[0;36m3\u001b[0m\u001b[0;34m,\u001b[0m \u001b[0;36m5\u001b[0m\u001b[0;34m)\u001b[0m\u001b[0;34m)\u001b[0m\u001b[0;34m\u001b[0m\u001b[0;34m\u001b[0m\u001b[0m\n\u001b[0m",
            "\u001b[0;32m/usr/local/lib/python3.7/dist-packages/tensorflow/python/framework/constant_op.py\u001b[0m in \u001b[0;36mconstant\u001b[0;34m(value, dtype, shape, name)\u001b[0m\n\u001b[1;32m    266\u001b[0m   \"\"\"\n\u001b[1;32m    267\u001b[0m   return _constant_impl(value, dtype, shape, name, verify_shape=False,\n\u001b[0;32m--> 268\u001b[0;31m                         allow_broadcast=True)\n\u001b[0m\u001b[1;32m    269\u001b[0m \u001b[0;34m\u001b[0m\u001b[0m\n\u001b[1;32m    270\u001b[0m \u001b[0;34m\u001b[0m\u001b[0m\n",
            "\u001b[0;32m/usr/local/lib/python3.7/dist-packages/tensorflow/python/framework/constant_op.py\u001b[0m in \u001b[0;36m_constant_impl\u001b[0;34m(value, dtype, shape, name, verify_shape, allow_broadcast)\u001b[0m\n\u001b[1;32m    277\u001b[0m       \u001b[0;32mwith\u001b[0m \u001b[0mtrace\u001b[0m\u001b[0;34m.\u001b[0m\u001b[0mTrace\u001b[0m\u001b[0;34m(\u001b[0m\u001b[0;34m\"tf.constant\"\u001b[0m\u001b[0;34m)\u001b[0m\u001b[0;34m:\u001b[0m\u001b[0;34m\u001b[0m\u001b[0;34m\u001b[0m\u001b[0m\n\u001b[1;32m    278\u001b[0m         \u001b[0;32mreturn\u001b[0m \u001b[0m_constant_eager_impl\u001b[0m\u001b[0;34m(\u001b[0m\u001b[0mctx\u001b[0m\u001b[0;34m,\u001b[0m \u001b[0mvalue\u001b[0m\u001b[0;34m,\u001b[0m \u001b[0mdtype\u001b[0m\u001b[0;34m,\u001b[0m \u001b[0mshape\u001b[0m\u001b[0;34m,\u001b[0m \u001b[0mverify_shape\u001b[0m\u001b[0;34m)\u001b[0m\u001b[0;34m\u001b[0m\u001b[0;34m\u001b[0m\u001b[0m\n\u001b[0;32m--> 279\u001b[0;31m     \u001b[0;32mreturn\u001b[0m \u001b[0m_constant_eager_impl\u001b[0m\u001b[0;34m(\u001b[0m\u001b[0mctx\u001b[0m\u001b[0;34m,\u001b[0m \u001b[0mvalue\u001b[0m\u001b[0;34m,\u001b[0m \u001b[0mdtype\u001b[0m\u001b[0;34m,\u001b[0m \u001b[0mshape\u001b[0m\u001b[0;34m,\u001b[0m \u001b[0mverify_shape\u001b[0m\u001b[0;34m)\u001b[0m\u001b[0;34m\u001b[0m\u001b[0;34m\u001b[0m\u001b[0m\n\u001b[0m\u001b[1;32m    280\u001b[0m \u001b[0;34m\u001b[0m\u001b[0m\n\u001b[1;32m    281\u001b[0m   \u001b[0mg\u001b[0m \u001b[0;34m=\u001b[0m \u001b[0mops\u001b[0m\u001b[0;34m.\u001b[0m\u001b[0mget_default_graph\u001b[0m\u001b[0;34m(\u001b[0m\u001b[0;34m)\u001b[0m\u001b[0;34m\u001b[0m\u001b[0;34m\u001b[0m\u001b[0m\n",
            "\u001b[0;32m/usr/local/lib/python3.7/dist-packages/tensorflow/python/framework/constant_op.py\u001b[0m in \u001b[0;36m_constant_eager_impl\u001b[0;34m(ctx, value, dtype, shape, verify_shape)\u001b[0m\n\u001b[1;32m    324\u001b[0m     \u001b[0;32melse\u001b[0m\u001b[0;34m:\u001b[0m\u001b[0;34m\u001b[0m\u001b[0;34m\u001b[0m\u001b[0m\n\u001b[1;32m    325\u001b[0m       \u001b[0;32mreturn\u001b[0m \u001b[0m_eager_fill\u001b[0m\u001b[0;34m(\u001b[0m\u001b[0mshape\u001b[0m\u001b[0;34m.\u001b[0m\u001b[0mas_list\u001b[0m\u001b[0;34m(\u001b[0m\u001b[0;34m)\u001b[0m\u001b[0;34m,\u001b[0m \u001b[0mt\u001b[0m\u001b[0;34m,\u001b[0m \u001b[0mctx\u001b[0m\u001b[0;34m)\u001b[0m\u001b[0;34m\u001b[0m\u001b[0;34m\u001b[0m\u001b[0m\n\u001b[0;32m--> 326\u001b[0;31m   raise TypeError(\"Eager execution of tf.constant with unsupported shape. \"\n\u001b[0m\u001b[1;32m    327\u001b[0m                   \u001b[0;34mf\"Tensor {t} (converted from {value}) has {num_t:d} \"\u001b[0m\u001b[0;34m\u001b[0m\u001b[0;34m\u001b[0m\u001b[0m\n\u001b[1;32m    328\u001b[0m                   \u001b[0;34mf\"elements, but got `shape` {shape} with \"\u001b[0m\u001b[0;34m\u001b[0m\u001b[0;34m\u001b[0m\u001b[0m\n",
            "\u001b[0;31mTypeError\u001b[0m: Eager execution of tf.constant with unsupported shape. Tensor [ 1  2  3  4  5  6  7  8  9 10 11 12 13 14 15 16 17 18 19 20 21 22 23 24] (converted from [ 1  2  3  4  5  6  7  8  9 10 11 12 13 14 15 16 17 18 19 20 21 22 23 24]) has 24 elements, but got `shape` (2, 3, 5) with 30 elements)."
          ]
        }
      ]
    },
    {
      "cell_type": "markdown",
      "source": [
        "So, the above error says the new shape would have 30 elements (2\\*3\\*5) rather than 24, which is the size of the original array. We can also set the shape to (3,8), since 3\\*8 = 24."
      ],
      "metadata": {
        "id": "31wKEMhTO7BU"
      },
      "id": "31wKEMhTO7BU"
    },
    {
      "cell_type": "code",
      "source": [
        "A = tf.constant(numpy_A, shape = (3, 8))\n",
        "A"
      ],
      "metadata": {
        "colab": {
          "base_uri": "https://localhost:8080/"
        },
        "id": "deftZ_3rPRAE",
        "outputId": "a42f265e-e92d-4085-b5d0-02e913fdd702"
      },
      "id": "deftZ_3rPRAE",
      "execution_count": 33,
      "outputs": [
        {
          "output_type": "execute_result",
          "data": {
            "text/plain": [
              "<tf.Tensor: shape=(3, 8), dtype=int32, numpy=\n",
              "array([[ 1,  2,  3,  4,  5,  6,  7,  8],\n",
              "       [ 9, 10, 11, 12, 13, 14, 15, 16],\n",
              "       [17, 18, 19, 20, 21, 22, 23, 24]], dtype=int32)>"
            ]
          },
          "metadata": {},
          "execution_count": 33
        }
      ]
    },
    {
      "cell_type": "markdown",
      "source": [
        "### Getting Information From Tensor (Tensor Attributes)\n",
        "\n",
        "Tensors can run on a GPU, whereas `numpy` arrays cannot. There will be times where you want to get attributes from your tensors.\n",
        "\n",
        "When dealing with tensors, you want to be aware of the following attributes:\n",
        "\n",
        "* Shape: the # elements of each dimension of a tensor.\n",
        "* Rank: the number of dimensions; scalar has 0, vector has 1, matrix has 2, tensor has n.\n",
        "* Axis or Dimension: a particular dimension of a tensor. How you access a particular axis of a tensor.\n",
        "* Size: The total number of items in the tensor. "
      ],
      "metadata": {
        "id": "RvU0lu8_Phu-"
      },
      "id": "RvU0lu8_Phu-"
    },
    {
      "cell_type": "code",
      "source": [
        "# Create a rank 4 tensor - has 4 dimensions\n",
        "rank_4_tensor = tf.zeros([2, 3, 4, 5])\n",
        "rank_4_tensor"
      ],
      "metadata": {
        "colab": {
          "base_uri": "https://localhost:8080/"
        },
        "id": "ynJkWtZWdufN",
        "outputId": "27337999-a261-4339-b389-48fcea89f9e5"
      },
      "id": "ynJkWtZWdufN",
      "execution_count": 34,
      "outputs": [
        {
          "output_type": "execute_result",
          "data": {
            "text/plain": [
              "<tf.Tensor: shape=(2, 3, 4, 5), dtype=float32, numpy=\n",
              "array([[[[0., 0., 0., 0., 0.],\n",
              "         [0., 0., 0., 0., 0.],\n",
              "         [0., 0., 0., 0., 0.],\n",
              "         [0., 0., 0., 0., 0.]],\n",
              "\n",
              "        [[0., 0., 0., 0., 0.],\n",
              "         [0., 0., 0., 0., 0.],\n",
              "         [0., 0., 0., 0., 0.],\n",
              "         [0., 0., 0., 0., 0.]],\n",
              "\n",
              "        [[0., 0., 0., 0., 0.],\n",
              "         [0., 0., 0., 0., 0.],\n",
              "         [0., 0., 0., 0., 0.],\n",
              "         [0., 0., 0., 0., 0.]]],\n",
              "\n",
              "\n",
              "       [[[0., 0., 0., 0., 0.],\n",
              "         [0., 0., 0., 0., 0.],\n",
              "         [0., 0., 0., 0., 0.],\n",
              "         [0., 0., 0., 0., 0.]],\n",
              "\n",
              "        [[0., 0., 0., 0., 0.],\n",
              "         [0., 0., 0., 0., 0.],\n",
              "         [0., 0., 0., 0., 0.],\n",
              "         [0., 0., 0., 0., 0.]],\n",
              "\n",
              "        [[0., 0., 0., 0., 0.],\n",
              "         [0., 0., 0., 0., 0.],\n",
              "         [0., 0., 0., 0., 0.],\n",
              "         [0., 0., 0., 0., 0.]]]], dtype=float32)>"
            ]
          },
          "metadata": {},
          "execution_count": 34
        }
      ]
    },
    {
      "cell_type": "markdown",
      "source": [
        "Typically, when building NNs, you will spend a lot of time adjusting the shape of your tensors. This is because they have to be a in a specific shape when you pass it into the NN. "
      ],
      "metadata": {
        "id": "Vy3Y3uPGedwS"
      },
      "id": "Vy3Y3uPGedwS"
    },
    {
      "cell_type": "code",
      "source": [
        "# 0 element of rank 4 tensor\n",
        "rank_4_tensor[0]"
      ],
      "metadata": {
        "colab": {
          "base_uri": "https://localhost:8080/"
        },
        "id": "f7xQHMzpex80",
        "outputId": "9a90d54c-ad0d-4603-a6b4-abb89de51d21"
      },
      "id": "f7xQHMzpex80",
      "execution_count": 35,
      "outputs": [
        {
          "output_type": "execute_result",
          "data": {
            "text/plain": [
              "<tf.Tensor: shape=(3, 4, 5), dtype=float32, numpy=\n",
              "array([[[0., 0., 0., 0., 0.],\n",
              "        [0., 0., 0., 0., 0.],\n",
              "        [0., 0., 0., 0., 0.],\n",
              "        [0., 0., 0., 0., 0.]],\n",
              "\n",
              "       [[0., 0., 0., 0., 0.],\n",
              "        [0., 0., 0., 0., 0.],\n",
              "        [0., 0., 0., 0., 0.],\n",
              "        [0., 0., 0., 0., 0.]],\n",
              "\n",
              "       [[0., 0., 0., 0., 0.],\n",
              "        [0., 0., 0., 0., 0.],\n",
              "        [0., 0., 0., 0., 0.],\n",
              "        [0., 0., 0., 0., 0.]]], dtype=float32)>"
            ]
          },
          "metadata": {},
          "execution_count": 35
        }
      ]
    },
    {
      "cell_type": "code",
      "source": [
        "# Rank 4 tensor shape, dimensions, size\n",
        "rank_4_tensor.shape, rank_4_tensor.ndim, tf.size(rank_4_tensor)"
      ],
      "metadata": {
        "colab": {
          "base_uri": "https://localhost:8080/"
        },
        "id": "R-IJlpeTe8KH",
        "outputId": "d7ef631e-7744-4b46-f2cb-65f41593d5d4"
      },
      "id": "R-IJlpeTe8KH",
      "execution_count": 36,
      "outputs": [
        {
          "output_type": "execute_result",
          "data": {
            "text/plain": [
              "(TensorShape([2, 3, 4, 5]), 4, <tf.Tensor: shape=(), dtype=int32, numpy=120>)"
            ]
          },
          "metadata": {},
          "execution_count": 36
        }
      ]
    },
    {
      "cell_type": "markdown",
      "source": [
        "The size of the vector will be the product of all the shape inputs. So, in this case, it is 120 since 2\\*3\\*4\\*5."
      ],
      "metadata": {
        "id": "Z0RBbQjOfSfR"
      },
      "id": "Z0RBbQjOfSfR"
    },
    {
      "cell_type": "code",
      "source": [
        "# Get various attributes of our tensor with pretty print\n",
        "print(\"Datatype of very element:\", rank_4_tensor.dtype)\n",
        "print(\"Number of dimensions (rank):\", rank_4_tensor.ndim)\n",
        "print(\"Shape of tensor:\", rank_4_tensor.shape)\n",
        "print(\"Elements along the 0 axis:\", rank_4_tensor.shape[0])\n",
        "print(\"Elements along the last axis:\", rank_4_tensor.shape[-1])\n",
        "print(\"Total number of elements in our tensor:\", tf.size(rank_4_tensor))"
      ],
      "metadata": {
        "colab": {
          "base_uri": "https://localhost:8080/"
        },
        "id": "ULDKBTptfgve",
        "outputId": "56d7f01c-a7fa-4f8e-a8a8-6efae49569ba"
      },
      "id": "ULDKBTptfgve",
      "execution_count": 37,
      "outputs": [
        {
          "output_type": "stream",
          "name": "stdout",
          "text": [
            "Datatype of very element: <dtype: 'float32'>\n",
            "Number of dimensions (rank): 4\n",
            "Shape of tensor: (2, 3, 4, 5)\n",
            "Elements along the 0 axis: 2\n",
            "Elements along the last axis: 5\n",
            "Total number of elements in our tensor: tf.Tensor(120, shape=(), dtype=int32)\n"
          ]
        }
      ]
    },
    {
      "cell_type": "markdown",
      "source": [
        "To convert the output of the size attribute for our tensor we can convert it to a `numpy` integer: "
      ],
      "metadata": {
        "id": "9plk7yOGgMX3"
      },
      "id": "9plk7yOGgMX3"
    },
    {
      "cell_type": "code",
      "source": [
        "print(\"Total number of elements in our tensor:\", tf.size(rank_4_tensor).numpy())"
      ],
      "metadata": {
        "colab": {
          "base_uri": "https://localhost:8080/"
        },
        "id": "cl4qqywOgRjN",
        "outputId": "73d9fa77-bf73-4ef8-9e66-17249ce514b9"
      },
      "id": "cl4qqywOgRjN",
      "execution_count": 38,
      "outputs": [
        {
          "output_type": "stream",
          "name": "stdout",
          "text": [
            "Total number of elements in our tensor: 120\n"
          ]
        }
      ]
    },
    {
      "cell_type": "markdown",
      "source": [
        "We learned how to get the attributes from the tensors we create or are dealing with. Often times with NNs, we will be dealing with tensors that we cannot visualize since they are very large. \n",
        "\n",
        "### Indexing And Expanding Tensors\n",
        "\n",
        "Tensors can be indexed just like Python lists."
      ],
      "metadata": {
        "id": "sqmd2zEugcTV"
      },
      "id": "sqmd2zEugcTV"
    },
    {
      "cell_type": "code",
      "source": [
        "# Get the first 2 elements of each dimension in our tensor\n",
        "rank_4_tensor = tf.zeros([2, 3, 4, 5])\n",
        "rank_4_tensor[:2, :2, :2, :2]"
      ],
      "metadata": {
        "colab": {
          "base_uri": "https://localhost:8080/"
        },
        "id": "UvE200ybhBlC",
        "outputId": "09f7040b-3f1d-4467-89aa-29142e026a71"
      },
      "id": "UvE200ybhBlC",
      "execution_count": 39,
      "outputs": [
        {
          "output_type": "execute_result",
          "data": {
            "text/plain": [
              "<tf.Tensor: shape=(2, 2, 2, 2), dtype=float32, numpy=\n",
              "array([[[[0., 0.],\n",
              "         [0., 0.]],\n",
              "\n",
              "        [[0., 0.],\n",
              "         [0., 0.]]],\n",
              "\n",
              "\n",
              "       [[[0., 0.],\n",
              "         [0., 0.]],\n",
              "\n",
              "        [[0., 0.],\n",
              "         [0., 0.]]]], dtype=float32)>"
            ]
          },
          "metadata": {},
          "execution_count": 39
        }
      ]
    },
    {
      "cell_type": "code",
      "source": [
        "# Get the first element from each dimension from each index but the final one\n",
        "rank_4_tensor[:1, :1, :1, :] # the single colon will mean get the whole thing"
      ],
      "metadata": {
        "colab": {
          "base_uri": "https://localhost:8080/"
        },
        "id": "nO-k-kP8hdr1",
        "outputId": "8d2a4a25-d237-4e52-8465-394b8feeb874"
      },
      "id": "nO-k-kP8hdr1",
      "execution_count": 40,
      "outputs": [
        {
          "output_type": "execute_result",
          "data": {
            "text/plain": [
              "<tf.Tensor: shape=(1, 1, 1, 5), dtype=float32, numpy=array([[[[0., 0., 0., 0., 0.]]]], dtype=float32)>"
            ]
          },
          "metadata": {},
          "execution_count": 40
        }
      ]
    },
    {
      "cell_type": "code",
      "source": [
        "# Another example\n",
        "rank_4_tensor[:1, :1, :, :1]"
      ],
      "metadata": {
        "colab": {
          "base_uri": "https://localhost:8080/"
        },
        "id": "rNRgtdIKh_kp",
        "outputId": "49fca79a-e4f1-40d1-cddb-abf179c36685"
      },
      "id": "rNRgtdIKh_kp",
      "execution_count": 41,
      "outputs": [
        {
          "output_type": "execute_result",
          "data": {
            "text/plain": [
              "<tf.Tensor: shape=(1, 1, 4, 1), dtype=float32, numpy=\n",
              "array([[[[0.],\n",
              "         [0.],\n",
              "         [0.],\n",
              "         [0.]]]], dtype=float32)>"
            ]
          },
          "metadata": {},
          "execution_count": 41
        }
      ]
    },
    {
      "cell_type": "code",
      "source": [
        "# Adding an extra dimensions to the end of a tensor \n",
        "# Create a rank 2 tensor (2 dimensions)\n",
        "rank_2_tensor = tf.constant([[10, 7],\n",
        "                             [3,4]])\n",
        "\n",
        "rank_2_tensor.shape, rank_2_tensor.ndim"
      ],
      "metadata": {
        "colab": {
          "base_uri": "https://localhost:8080/"
        },
        "id": "xL3J315xiBHH",
        "outputId": "391188bd-4be6-44f8-ce27-92ded6c0d601"
      },
      "id": "xL3J315xiBHH",
      "execution_count": 42,
      "outputs": [
        {
          "output_type": "execute_result",
          "data": {
            "text/plain": [
              "(TensorShape([2, 2]), 2)"
            ]
          },
          "metadata": {},
          "execution_count": 42
        }
      ]
    },
    {
      "cell_type": "code",
      "source": [
        "# Get the last item of each row for our rank 2 tensor\n",
        "rank_2_tensor[:, -1]"
      ],
      "metadata": {
        "colab": {
          "base_uri": "https://localhost:8080/"
        },
        "id": "c2ZLJAK5iX5D",
        "outputId": "4b6b84f2-5989-4518-aac1-b1307be9e98a"
      },
      "id": "c2ZLJAK5iX5D",
      "execution_count": 43,
      "outputs": [
        {
          "output_type": "execute_result",
          "data": {
            "text/plain": [
              "<tf.Tensor: shape=(2,), dtype=int32, numpy=array([7, 4], dtype=int32)>"
            ]
          },
          "metadata": {},
          "execution_count": 43
        }
      ]
    },
    {
      "cell_type": "code",
      "source": [
        "# Adding an extra dimension onto our rank 2 vector\n",
        "# This will be more thoroughly covered when we do NNs, since the tensors will need a specific shape\n",
        "rank_3_tensor = rank_2_tensor[..., tf.newaxis]\n",
        "rank_3_tensor"
      ],
      "metadata": {
        "colab": {
          "base_uri": "https://localhost:8080/"
        },
        "id": "ffV41JkliwJ9",
        "outputId": "8969fbd0-beaf-4c18-f57b-9cd658a50c40"
      },
      "id": "ffV41JkliwJ9",
      "execution_count": 44,
      "outputs": [
        {
          "output_type": "execute_result",
          "data": {
            "text/plain": [
              "<tf.Tensor: shape=(2, 2, 1), dtype=int32, numpy=\n",
              "array([[[10],\n",
              "        [ 7]],\n",
              "\n",
              "       [[ 3],\n",
              "        [ 4]]], dtype=int32)>"
            ]
          },
          "metadata": {},
          "execution_count": 44
        }
      ]
    },
    {
      "cell_type": "markdown",
      "source": [
        "The `...` means every previous axis. It would be the same as: `rank_2_tensor[:, :, tf.newaxis]`"
      ],
      "metadata": {
        "id": "DIWxL6KQjEd6"
      },
      "id": "DIWxL6KQjEd6"
    },
    {
      "cell_type": "code",
      "source": [
        "# Alternative to tf.newaxis\n",
        "tf.expand_dims(rank_2_tensor, axis = -1) # -1 means expand on the final axis"
      ],
      "metadata": {
        "colab": {
          "base_uri": "https://localhost:8080/"
        },
        "id": "TqswtNIHjdVu",
        "outputId": "f312ba05-284e-4c6c-9b4a-cba918012cbb"
      },
      "id": "TqswtNIHjdVu",
      "execution_count": 45,
      "outputs": [
        {
          "output_type": "execute_result",
          "data": {
            "text/plain": [
              "<tf.Tensor: shape=(2, 2, 1), dtype=int32, numpy=\n",
              "array([[[10],\n",
              "        [ 7]],\n",
              "\n",
              "       [[ 3],\n",
              "        [ 4]]], dtype=int32)>"
            ]
          },
          "metadata": {},
          "execution_count": 45
        }
      ]
    },
    {
      "cell_type": "markdown",
      "source": [
        "The input for `tf.expand_dims()` is a tensor. The `axis = ` is an integer specifying the dimension index at which to expand the shape of input. Giving an input of D dimensions."
      ],
      "metadata": {
        "id": "IW-WKF3wjtrU"
      },
      "id": "IW-WKF3wjtrU"
    },
    {
      "cell_type": "code",
      "source": [
        "# What is the axis is 0?\n",
        "tf.expand_dims(rank_2_tensor, axis = 0) # expand the 0 axis"
      ],
      "metadata": {
        "colab": {
          "base_uri": "https://localhost:8080/"
        },
        "id": "uwMkpZ3Lj77d",
        "outputId": "b8ea03f2-a06a-49c0-8abc-a98f05e9b3d5"
      },
      "id": "uwMkpZ3Lj77d",
      "execution_count": 46,
      "outputs": [
        {
          "output_type": "execute_result",
          "data": {
            "text/plain": [
              "<tf.Tensor: shape=(1, 2, 2), dtype=int32, numpy=\n",
              "array([[[10,  7],\n",
              "        [ 3,  4]]], dtype=int32)>"
            ]
          },
          "metadata": {},
          "execution_count": 46
        }
      ]
    },
    {
      "cell_type": "code",
      "source": [
        "# Expand the dimension in the middle\n",
        "tf.expand_dims(rank_2_tensor, axis = 1)"
      ],
      "metadata": {
        "colab": {
          "base_uri": "https://localhost:8080/"
        },
        "id": "r-F4czlzkDD5",
        "outputId": "d4b83f0b-f203-43c3-b92c-838de34170c7"
      },
      "id": "r-F4czlzkDD5",
      "execution_count": 47,
      "outputs": [
        {
          "output_type": "execute_result",
          "data": {
            "text/plain": [
              "<tf.Tensor: shape=(2, 1, 2), dtype=int32, numpy=\n",
              "array([[[10,  7]],\n",
              "\n",
              "       [[ 3,  4]]], dtype=int32)>"
            ]
          },
          "metadata": {},
          "execution_count": 47
        }
      ]
    },
    {
      "cell_type": "markdown",
      "source": [
        "The numbers within the tensor stay the same when you add a new axis, but how the numbers are stored changes. \n",
        "\n",
        "### Manipulating Tensors With Basic Operations\n",
        "\n",
        "When building models in `TensorFlow`, much of the pattern discovery within tensors is done for you. Much of that pattern discovery is with the extended us of a few basic operations.\n",
        "\n",
        "**Basic Operations:**\n",
        "\n",
        "`+`, `-`, `*`, `/`"
      ],
      "metadata": {
        "id": "TP9TS47ikLk1"
      },
      "id": "TP9TS47ikLk1"
    },
    {
      "cell_type": "code",
      "source": [
        "# You can add values to a tensor using the addition operator\n",
        "tensor = tf.constant([[10, 7],\n",
        "                      [3, 4]])\n",
        "tensor + 10"
      ],
      "metadata": {
        "colab": {
          "base_uri": "https://localhost:8080/"
        },
        "id": "AsGN9xCul7O-",
        "outputId": "6ec5e982-b0a5-4045-f90c-e4d3453b6b0b"
      },
      "id": "AsGN9xCul7O-",
      "execution_count": 48,
      "outputs": [
        {
          "output_type": "execute_result",
          "data": {
            "text/plain": [
              "<tf.Tensor: shape=(2, 2), dtype=int32, numpy=\n",
              "array([[20, 17],\n",
              "       [13, 14]], dtype=int32)>"
            ]
          },
          "metadata": {},
          "execution_count": 48
        }
      ]
    },
    {
      "cell_type": "code",
      "source": [
        "# Original tensor is unchanged\n",
        "# This is important because when we are manipulating tensors, we do not always want to change \n",
        "# The underlying tensor\n",
        "tensor"
      ],
      "metadata": {
        "colab": {
          "base_uri": "https://localhost:8080/"
        },
        "id": "Nrts0SNTmLFU",
        "outputId": "a49ebaca-76b8-4d79-a484-d947023a3508"
      },
      "id": "Nrts0SNTmLFU",
      "execution_count": 49,
      "outputs": [
        {
          "output_type": "execute_result",
          "data": {
            "text/plain": [
              "<tf.Tensor: shape=(2, 2), dtype=int32, numpy=\n",
              "array([[10,  7],\n",
              "       [ 3,  4]], dtype=int32)>"
            ]
          },
          "metadata": {},
          "execution_count": 49
        }
      ]
    },
    {
      "cell_type": "code",
      "source": [
        "# To change the underlying tensor you can:\n",
        "tensor = tensor + 10\n",
        "tensor"
      ],
      "metadata": {
        "colab": {
          "base_uri": "https://localhost:8080/"
        },
        "id": "d5CeYLUxmWVV",
        "outputId": "62d20c81-1905-4556-8be9-1bad079cd6af"
      },
      "id": "d5CeYLUxmWVV",
      "execution_count": 50,
      "outputs": [
        {
          "output_type": "execute_result",
          "data": {
            "text/plain": [
              "<tf.Tensor: shape=(2, 2), dtype=int32, numpy=\n",
              "array([[20, 17],\n",
              "       [13, 14]], dtype=int32)>"
            ]
          },
          "metadata": {},
          "execution_count": 50
        }
      ]
    },
    {
      "cell_type": "code",
      "source": [
        "# Multiplication also works\n",
        "tensor * 10"
      ],
      "metadata": {
        "colab": {
          "base_uri": "https://localhost:8080/"
        },
        "id": "GW5Dau-mmirt",
        "outputId": "3042d1a2-8da2-4b04-9b91-d8e102e93c80"
      },
      "id": "GW5Dau-mmirt",
      "execution_count": 51,
      "outputs": [
        {
          "output_type": "execute_result",
          "data": {
            "text/plain": [
              "<tf.Tensor: shape=(2, 2), dtype=int32, numpy=\n",
              "array([[200, 170],\n",
              "       [130, 140]], dtype=int32)>"
            ]
          },
          "metadata": {},
          "execution_count": 51
        }
      ]
    },
    {
      "cell_type": "code",
      "source": [
        "# Subtraction\n",
        "tensor - 10"
      ],
      "metadata": {
        "colab": {
          "base_uri": "https://localhost:8080/"
        },
        "id": "l29I_zYZmk-u",
        "outputId": "513f366d-c6b4-4886-8396-604bcfb9a85a"
      },
      "id": "l29I_zYZmk-u",
      "execution_count": 52,
      "outputs": [
        {
          "output_type": "execute_result",
          "data": {
            "text/plain": [
              "<tf.Tensor: shape=(2, 2), dtype=int32, numpy=\n",
              "array([[10,  7],\n",
              "       [ 3,  4]], dtype=int32)>"
            ]
          },
          "metadata": {},
          "execution_count": 52
        }
      ]
    },
    {
      "cell_type": "code",
      "source": [
        "# Division\n",
        "tensor/10"
      ],
      "metadata": {
        "colab": {
          "base_uri": "https://localhost:8080/"
        },
        "id": "mUS7KExEmntF",
        "outputId": "da312049-81f4-4c2e-d724-19dac46b9f7f"
      },
      "id": "mUS7KExEmntF",
      "execution_count": 53,
      "outputs": [
        {
          "output_type": "execute_result",
          "data": {
            "text/plain": [
              "<tf.Tensor: shape=(2, 2), dtype=float64, numpy=\n",
              "array([[2. , 1.7],\n",
              "       [1.3, 1.4]])>"
            ]
          },
          "metadata": {},
          "execution_count": 53
        }
      ]
    },
    {
      "cell_type": "markdown",
      "source": [
        "In addition to the Python operators, we can use built-in `TensorFlow` functions."
      ],
      "metadata": {
        "id": "bQVRGJckmqSL"
      },
      "id": "bQVRGJckmqSL"
    },
    {
      "cell_type": "code",
      "source": [
        "# We can use the tensorflow built-in function too\n",
        "print(tf.multiply(tensor, 10))\n",
        "print(tf.divide(tensor, 10))\n",
        "print(tf.add(tensor, 10))\n",
        "print(tf.subtract(tensor, 10))\n",
        "print(tf.square(tensor, 2))"
      ],
      "metadata": {
        "colab": {
          "base_uri": "https://localhost:8080/"
        },
        "id": "ciqV-3BdmvxK",
        "outputId": "8e349bf8-71fc-40d2-9b69-97d256ceb638"
      },
      "id": "ciqV-3BdmvxK",
      "execution_count": 54,
      "outputs": [
        {
          "output_type": "stream",
          "name": "stdout",
          "text": [
            "tf.Tensor(\n",
            "[[200 170]\n",
            " [130 140]], shape=(2, 2), dtype=int32)\n",
            "tf.Tensor(\n",
            "[[2.  1.7]\n",
            " [1.3 1.4]], shape=(2, 2), dtype=float64)\n",
            "tf.Tensor(\n",
            "[[30 27]\n",
            " [23 24]], shape=(2, 2), dtype=int32)\n",
            "tf.Tensor(\n",
            "[[10  7]\n",
            " [ 3  4]], shape=(2, 2), dtype=int32)\n",
            "tf.Tensor(\n",
            "[[400 289]\n",
            " [169 196]], shape=(2, 2), dtype=int32)\n"
          ]
        }
      ]
    },
    {
      "cell_type": "code",
      "source": [
        "# For certain operations, like exponentiation or square root, the data must be a float, not an integer\n",
        "tensor_float = tf.cast(tensor, dtype=  tf.float16)\n",
        "print(tf.exp(tensor_float))\n",
        "print(tf.sqrt(tensor_float))"
      ],
      "metadata": {
        "colab": {
          "base_uri": "https://localhost:8080/"
        },
        "id": "IGtfe0S0oG4j",
        "outputId": "d68f25fd-45ea-4323-9bcd-da3d7148f79c"
      },
      "id": "IGtfe0S0oG4j",
      "execution_count": 55,
      "outputs": [
        {
          "output_type": "stream",
          "name": "stdout",
          "text": [
            "tf.Tensor(\n",
            "[[inf inf]\n",
            " [inf inf]], shape=(2, 2), dtype=float16)\n",
            "tf.Tensor(\n",
            "[[4.473 4.125]\n",
            " [3.605 3.742]], shape=(2, 2), dtype=float16)\n"
          ]
        }
      ]
    },
    {
      "cell_type": "markdown",
      "source": [
        "If you have to do some tensor operation, it is quicker to use the `TensorFlow` functions since it can be accelerated via the GPU. \n",
        "\n",
        "### Matrix Multiplication With Tensors\n",
        "\n",
        "In machine learning, matrix multiplication is one of the most common tensor operations. The basic operations are referred to as element-wise operations. This means that the operation goes through one element at a time. So, if we are adding 10 to a tensor that is a 2x2 matrix, it will add 10 to each individual element. \n",
        "\n",
        "Matrix multiplication is not element wise. When you multiply a matrix (tensor) by another matrix (tensor), you need to calculate the \"dot product\" of the rows and columns. \n",
        "\n",
        "The dot product is where we multiply and then sum matching numbers. In order for 2 matrices to be multiplied, the number of rows in the second matix must be equal to the number of columns in the first matrix. The size of the new matrix will be the number of rows from the first matrix and the number of columns in the second matrix. "
      ],
      "metadata": {
        "id": "DYGFzcI1m_ab"
      },
      "id": "DYGFzcI1m_ab"
    },
    {
      "cell_type": "code",
      "source": [
        "# Matrix multiplication in tensorflow\n",
        "tensor = tf.constant([[10, 7],\n",
        "                      [3, 4]])\n",
        "tf.matmul(tensor, tensor)"
      ],
      "metadata": {
        "id": "WYXM1Hksnqb3",
        "colab": {
          "base_uri": "https://localhost:8080/"
        },
        "outputId": "d32626d8-007d-459b-cf00-19facc22aa27"
      },
      "id": "WYXM1Hksnqb3",
      "execution_count": 56,
      "outputs": [
        {
          "output_type": "execute_result",
          "data": {
            "text/plain": [
              "<tf.Tensor: shape=(2, 2), dtype=int32, numpy=\n",
              "array([[121,  98],\n",
              "       [ 42,  37]], dtype=int32)>"
            ]
          },
          "metadata": {},
          "execution_count": 56
        }
      ]
    },
    {
      "cell_type": "code",
      "source": [
        "# Different output using the * operator; this is because it will multiply them element-wise\n",
        "# It will not give us dot products \n",
        "tensor * tensor"
      ],
      "metadata": {
        "colab": {
          "base_uri": "https://localhost:8080/"
        },
        "id": "DV69W176IJYa",
        "outputId": "bd5fda1f-93ae-49a6-9ab0-5ca48b884897"
      },
      "id": "DV69W176IJYa",
      "execution_count": 57,
      "outputs": [
        {
          "output_type": "execute_result",
          "data": {
            "text/plain": [
              "<tf.Tensor: shape=(2, 2), dtype=int32, numpy=\n",
              "array([[100,  49],\n",
              "       [  9,  16]], dtype=int32)>"
            ]
          },
          "metadata": {},
          "execution_count": 57
        }
      ]
    },
    {
      "cell_type": "code",
      "source": [
        "# Matrix multiplication with Python operator \"@\"\n",
        "# The \"@\" is for matrix multiplication\n",
        "tensor @ tensor"
      ],
      "metadata": {
        "colab": {
          "base_uri": "https://localhost:8080/"
        },
        "id": "MjEUzagwID0j",
        "outputId": "081cbd7b-b053-4974-fdf4-2aefa97e68bf"
      },
      "id": "MjEUzagwID0j",
      "execution_count": 58,
      "outputs": [
        {
          "output_type": "execute_result",
          "data": {
            "text/plain": [
              "<tf.Tensor: shape=(2, 2), dtype=int32, numpy=\n",
              "array([[121,  98],\n",
              "       [ 42,  37]], dtype=int32)>"
            ]
          },
          "metadata": {},
          "execution_count": 58
        }
      ]
    },
    {
      "cell_type": "code",
      "source": [
        "# Practice problem with matrices of different sizes\n",
        "# The rows in tensor2 = columns in tensor1\n",
        "# The new matrix will be 3x2\n",
        "tensor1 = tf.constant([[1,2,5],\n",
        "                       [7,2,1],\n",
        "                       [3,3,3]])\n",
        "tensor2 = tf.constant([[3,5],\n",
        "                       [6,7],\n",
        "                       [1,8]])\n",
        "tf.matmul(tensor1, tensor2)"
      ],
      "metadata": {
        "colab": {
          "base_uri": "https://localhost:8080/"
        },
        "id": "xlCPlpdsIhSK",
        "outputId": "dc36b229-e040-4b4e-8df7-2b9bb744f0ba"
      },
      "id": "xlCPlpdsIhSK",
      "execution_count": 59,
      "outputs": [
        {
          "output_type": "execute_result",
          "data": {
            "text/plain": [
              "<tf.Tensor: shape=(3, 2), dtype=int32, numpy=\n",
              "array([[20, 59],\n",
              "       [34, 57],\n",
              "       [30, 60]], dtype=int32)>"
            ]
          },
          "metadata": {},
          "execution_count": 59
        }
      ]
    },
    {
      "cell_type": "code",
      "source": [
        "# Trying matrix multiplication with incompatible sizes\n",
        "# This will give us an error since tensor1 has 2 columns and tensor2 has 3 rows\n",
        "tensor1 = tf.constant([[1,2],\n",
        "                       [3,4],\n",
        "                       [5,6]])\n",
        "tensor2 = tf.constant([[3,5],\n",
        "                       [6,7],\n",
        "                       [1,8]])\n",
        "tf.matmul(tensor1, tensor2)"
      ],
      "metadata": {
        "colab": {
          "base_uri": "https://localhost:8080/",
          "height": 345
        },
        "id": "xWXoZwWoI-WX",
        "outputId": "90d5ea01-5223-4833-a336-6e8b18f3eb15"
      },
      "id": "xWXoZwWoI-WX",
      "execution_count": 60,
      "outputs": [
        {
          "output_type": "error",
          "ename": "InvalidArgumentError",
          "evalue": "ignored",
          "traceback": [
            "\u001b[0;31m---------------------------------------------------------------------------\u001b[0m",
            "\u001b[0;31mInvalidArgumentError\u001b[0m                      Traceback (most recent call last)",
            "\u001b[0;32m<ipython-input-60-b8d2f475f56d>\u001b[0m in \u001b[0;36m<module>\u001b[0;34m\u001b[0m\n\u001b[1;32m      7\u001b[0m                        \u001b[0;34m[\u001b[0m\u001b[0;36m6\u001b[0m\u001b[0;34m,\u001b[0m\u001b[0;36m7\u001b[0m\u001b[0;34m]\u001b[0m\u001b[0;34m,\u001b[0m\u001b[0;34m\u001b[0m\u001b[0;34m\u001b[0m\u001b[0m\n\u001b[1;32m      8\u001b[0m                        [1,8]])\n\u001b[0;32m----> 9\u001b[0;31m \u001b[0mtf\u001b[0m\u001b[0;34m.\u001b[0m\u001b[0mmatmul\u001b[0m\u001b[0;34m(\u001b[0m\u001b[0mtensor1\u001b[0m\u001b[0;34m,\u001b[0m \u001b[0mtensor2\u001b[0m\u001b[0;34m)\u001b[0m\u001b[0;34m\u001b[0m\u001b[0;34m\u001b[0m\u001b[0m\n\u001b[0m",
            "\u001b[0;32m/usr/local/lib/python3.7/dist-packages/tensorflow/python/util/traceback_utils.py\u001b[0m in \u001b[0;36merror_handler\u001b[0;34m(*args, **kwargs)\u001b[0m\n\u001b[1;32m    151\u001b[0m     \u001b[0;32mexcept\u001b[0m \u001b[0mException\u001b[0m \u001b[0;32mas\u001b[0m \u001b[0me\u001b[0m\u001b[0;34m:\u001b[0m\u001b[0;34m\u001b[0m\u001b[0;34m\u001b[0m\u001b[0m\n\u001b[1;32m    152\u001b[0m       \u001b[0mfiltered_tb\u001b[0m \u001b[0;34m=\u001b[0m \u001b[0m_process_traceback_frames\u001b[0m\u001b[0;34m(\u001b[0m\u001b[0me\u001b[0m\u001b[0;34m.\u001b[0m\u001b[0m__traceback__\u001b[0m\u001b[0;34m)\u001b[0m\u001b[0;34m\u001b[0m\u001b[0;34m\u001b[0m\u001b[0m\n\u001b[0;32m--> 153\u001b[0;31m       \u001b[0;32mraise\u001b[0m \u001b[0me\u001b[0m\u001b[0;34m.\u001b[0m\u001b[0mwith_traceback\u001b[0m\u001b[0;34m(\u001b[0m\u001b[0mfiltered_tb\u001b[0m\u001b[0;34m)\u001b[0m \u001b[0;32mfrom\u001b[0m \u001b[0;32mNone\u001b[0m\u001b[0;34m\u001b[0m\u001b[0;34m\u001b[0m\u001b[0m\n\u001b[0m\u001b[1;32m    154\u001b[0m     \u001b[0;32mfinally\u001b[0m\u001b[0;34m:\u001b[0m\u001b[0;34m\u001b[0m\u001b[0;34m\u001b[0m\u001b[0m\n\u001b[1;32m    155\u001b[0m       \u001b[0;32mdel\u001b[0m \u001b[0mfiltered_tb\u001b[0m\u001b[0;34m\u001b[0m\u001b[0;34m\u001b[0m\u001b[0m\n",
            "\u001b[0;32m/usr/local/lib/python3.7/dist-packages/tensorflow/python/framework/ops.py\u001b[0m in \u001b[0;36mraise_from_not_ok_status\u001b[0;34m(e, name)\u001b[0m\n\u001b[1;32m   7162\u001b[0m \u001b[0;32mdef\u001b[0m \u001b[0mraise_from_not_ok_status\u001b[0m\u001b[0;34m(\u001b[0m\u001b[0me\u001b[0m\u001b[0;34m,\u001b[0m \u001b[0mname\u001b[0m\u001b[0;34m)\u001b[0m\u001b[0;34m:\u001b[0m\u001b[0;34m\u001b[0m\u001b[0;34m\u001b[0m\u001b[0m\n\u001b[1;32m   7163\u001b[0m   \u001b[0me\u001b[0m\u001b[0;34m.\u001b[0m\u001b[0mmessage\u001b[0m \u001b[0;34m+=\u001b[0m \u001b[0;34m(\u001b[0m\u001b[0;34m\" name: \"\u001b[0m \u001b[0;34m+\u001b[0m \u001b[0mname\u001b[0m \u001b[0;32mif\u001b[0m \u001b[0mname\u001b[0m \u001b[0;32mis\u001b[0m \u001b[0;32mnot\u001b[0m \u001b[0;32mNone\u001b[0m \u001b[0;32melse\u001b[0m \u001b[0;34m\"\"\u001b[0m\u001b[0;34m)\u001b[0m\u001b[0;34m\u001b[0m\u001b[0;34m\u001b[0m\u001b[0m\n\u001b[0;32m-> 7164\u001b[0;31m   \u001b[0;32mraise\u001b[0m \u001b[0mcore\u001b[0m\u001b[0;34m.\u001b[0m\u001b[0m_status_to_exception\u001b[0m\u001b[0;34m(\u001b[0m\u001b[0me\u001b[0m\u001b[0;34m)\u001b[0m \u001b[0;32mfrom\u001b[0m \u001b[0;32mNone\u001b[0m  \u001b[0;31m# pylint: disable=protected-access\u001b[0m\u001b[0;34m\u001b[0m\u001b[0;34m\u001b[0m\u001b[0m\n\u001b[0m\u001b[1;32m   7165\u001b[0m \u001b[0;34m\u001b[0m\u001b[0m\n\u001b[1;32m   7166\u001b[0m \u001b[0;34m\u001b[0m\u001b[0m\n",
            "\u001b[0;31mInvalidArgumentError\u001b[0m: Matrix size-incompatible: In[0]: [3,2], In[1]: [3,2] [Op:MatMul]"
          ]
        }
      ]
    },
    {
      "cell_type": "markdown",
      "source": [
        "There are 2 rules our tensors (matrices) need to fulfill if we are going to multiply them:\n",
        "\n",
        "1. The inner dimensions must match\n",
        "2. The resulting matrix has the shape of the outer dimensions "
      ],
      "metadata": {
        "id": "VE6FrNdzKGcR"
      },
      "id": "VE6FrNdzKGcR"
    },
    {
      "cell_type": "code",
      "source": [
        "# Fixing the previous matrices so they can be multiplied\n",
        "# Will delete one row from tensor2 so 3x2 * 2x2\n",
        "# The resulting matrix will be 3x2\n",
        "tensor1 = tf.constant([[1,2],\n",
        "                       [3,4],\n",
        "                       [5,6]])\n",
        "tensor2 = tf.constant([[3,5],\n",
        "                      [6,7]])\n",
        "tf.matmul(tensor1, tensor2)"
      ],
      "metadata": {
        "id": "sKs27mxgKpU3"
      },
      "execution_count": null,
      "outputs": [],
      "id": "sKs27mxgKpU3"
    },
    {
      "cell_type": "code",
      "source": [
        "# We can also do\n",
        "tensor1 = tf.constant([[1,2],\n",
        "                       [3,4],\n",
        "                       [5,6]])\n",
        "tensor2 = tf.constant([[3,5],\n",
        "                       [6,7],\n",
        "                       [1,8]])\n",
        "# Reshape tensor2\n",
        "tensor2 = tf.reshape(tensor2, shape=(2,3))"
      ],
      "metadata": {
        "id": "lapzFdi0_xQ3"
      },
      "id": "lapzFdi0_xQ3",
      "execution_count": 61,
      "outputs": []
    },
    {
      "cell_type": "code",
      "source": [
        "# Check the shape of our tensors\n",
        "tensor1.shape, tensor2.shape"
      ],
      "metadata": {
        "colab": {
          "base_uri": "https://localhost:8080/"
        },
        "id": "T2zGoW1MATxH",
        "outputId": "d94ee039-0c7c-469d-8052-37b793fa8836"
      },
      "id": "T2zGoW1MATxH",
      "execution_count": 62,
      "outputs": [
        {
          "output_type": "execute_result",
          "data": {
            "text/plain": [
              "(TensorShape([3, 2]), TensorShape([2, 3]))"
            ]
          },
          "metadata": {},
          "execution_count": 62
        }
      ]
    },
    {
      "cell_type": "code",
      "source": [
        "# Now performing matrix multiplication\n",
        "tf.matmul(tensor1, tensor2)"
      ],
      "metadata": {
        "colab": {
          "base_uri": "https://localhost:8080/"
        },
        "id": "ldvT_YhcAYhg",
        "outputId": "6d47254d-7292-4be0-f74b-b45feb87c6ee"
      },
      "id": "ldvT_YhcAYhg",
      "execution_count": 63,
      "outputs": [
        {
          "output_type": "execute_result",
          "data": {
            "text/plain": [
              "<tf.Tensor: shape=(3, 3), dtype=int32, numpy=\n",
              "array([[17,  7, 22],\n",
              "       [37, 19, 50],\n",
              "       [57, 31, 78]], dtype=int32)>"
            ]
          },
          "metadata": {},
          "execution_count": 63
        }
      ]
    },
    {
      "cell_type": "code",
      "source": [
        "# We can also do \n",
        "tensor1 = tf.constant([[1,2],\n",
        "                       [3,4],\n",
        "                       [5,6]])\n",
        "tensor2 = tf.constant([[3,5],\n",
        "                       [6,7],\n",
        "                       [1,8]])\n",
        "# Rehshape tensor1\n",
        "tensor1 = tf.reshape(tensor1, shape=(2,3))"
      ],
      "metadata": {
        "id": "pMsDEa8IAvso"
      },
      "id": "pMsDEa8IAvso",
      "execution_count": 64,
      "outputs": []
    },
    {
      "cell_type": "code",
      "source": [
        "# Check the shape of our tensors\n",
        "tensor1.shape, tensor2.shape"
      ],
      "metadata": {
        "colab": {
          "base_uri": "https://localhost:8080/"
        },
        "id": "opvWtbfbBKMO",
        "outputId": "f6b7f251-40ea-49f7-9492-7d8b718bd042"
      },
      "id": "opvWtbfbBKMO",
      "execution_count": 65,
      "outputs": [
        {
          "output_type": "execute_result",
          "data": {
            "text/plain": [
              "(TensorShape([2, 3]), TensorShape([3, 2]))"
            ]
          },
          "metadata": {},
          "execution_count": 65
        }
      ]
    },
    {
      "cell_type": "code",
      "source": [
        "# Now performing matrix multiplication\n",
        "tensor1 @ tensor2"
      ],
      "metadata": {
        "colab": {
          "base_uri": "https://localhost:8080/"
        },
        "id": "PkV_BaLIBMAR",
        "outputId": "24e65d4c-4ff1-4a3c-c119-6430cf4a642d"
      },
      "id": "PkV_BaLIBMAR",
      "execution_count": 66,
      "outputs": [
        {
          "output_type": "execute_result",
          "data": {
            "text/plain": [
              "<tf.Tensor: shape=(2, 2), dtype=int32, numpy=\n",
              "array([[ 18,  43],\n",
              "       [ 48, 103]], dtype=int32)>"
            ]
          },
          "metadata": {},
          "execution_count": 66
        }
      ]
    },
    {
      "cell_type": "markdown",
      "source": [
        "The above exercise has shown that the result of the matrix multiplication depends on which tensor you ultimately reshape, if the dimensions for matrix multiplication are incompatible. "
      ],
      "metadata": {
        "id": "a7jluS0UBZ5Z"
      },
      "id": "a7jluS0UBZ5Z"
    },
    {
      "cell_type": "code",
      "source": [
        "# What if we use transpose rather than reshape?\n",
        "tensor1 = tf.constant([[1,2],\n",
        "                       [3,4],\n",
        "                       [5,6]])\n",
        "\n",
        "tensor1, tf.transpose(tensor1), tf.reshape(tensor1, shape=(2,3))"
      ],
      "metadata": {
        "colab": {
          "base_uri": "https://localhost:8080/"
        },
        "id": "hWJkUVRdBl6z",
        "outputId": "1835c2e9-def0-42a9-fab4-fdae7d97ca75"
      },
      "id": "hWJkUVRdBl6z",
      "execution_count": 67,
      "outputs": [
        {
          "output_type": "execute_result",
          "data": {
            "text/plain": [
              "(<tf.Tensor: shape=(3, 2), dtype=int32, numpy=\n",
              " array([[1, 2],\n",
              "        [3, 4],\n",
              "        [5, 6]], dtype=int32)>, <tf.Tensor: shape=(2, 3), dtype=int32, numpy=\n",
              " array([[1, 3, 5],\n",
              "        [2, 4, 6]], dtype=int32)>, <tf.Tensor: shape=(2, 3), dtype=int32, numpy=\n",
              " array([[1, 2, 3],\n",
              "        [4, 5, 6]], dtype=int32)>)"
            ]
          },
          "metadata": {},
          "execution_count": 67
        }
      ]
    },
    {
      "cell_type": "markdown",
      "source": [
        "As you can see, transposing and reshaping gives a matrix with the same dimensions, but the numbers are in a different order. The difference between tranpose and reshape is that transpose flips the axes, whereas reshape shuffles the tensor around into the shape we want. \n",
        "\n",
        "As a note: The transpose $A^{T}$ of a matrix $A$ can be obtained by reflecting the elements along its main diagonal. Repeating the process on the transposed matrix returns the elements to their original position."
      ],
      "metadata": {
        "id": "t25HjtwyB4Oj"
      },
      "id": "t25HjtwyB4Oj"
    },
    {
      "cell_type": "code",
      "source": [
        "# Try matrix multiplication with transpose rather than reshape\n",
        "tensor1 = tf.constant([[1,2],\n",
        "                       [3,4],\n",
        "                       [5,6]])\n",
        "tensor2 = tf.constant([[3,5],\n",
        "                       [6,7],\n",
        "                       [1,8]])\n",
        "\n",
        "tf.matmul(tf.transpose(tensor1), tensor2)"
      ],
      "metadata": {
        "colab": {
          "base_uri": "https://localhost:8080/"
        },
        "id": "5rqQVTp6DWRF",
        "outputId": "6b32b0fd-09f1-4e0f-9a02-dd05309dd865"
      },
      "id": "5rqQVTp6DWRF",
      "execution_count": 68,
      "outputs": [
        {
          "output_type": "execute_result",
          "data": {
            "text/plain": [
              "<tf.Tensor: shape=(2, 2), dtype=int32, numpy=\n",
              "array([[26, 66],\n",
              "       [36, 86]], dtype=int32)>"
            ]
          },
          "metadata": {},
          "execution_count": 68
        }
      ]
    },
    {
      "cell_type": "markdown",
      "source": [
        "This is just an example of the type of things and manipulation you will be doing with tensors when inputting them into your NN and after you get the output. \n",
        "\n",
        "Matrix multiplication is also referred to as the dot product. \n",
        "\n",
        "You can perform matrix multiplication:\n",
        "\n",
        "* `tf.matmul()`\n",
        "* `tf.tensordot()`\n",
        "* `@`"
      ],
      "metadata": {
        "id": "177x9qA1EmEy"
      },
      "id": "177x9qA1EmEy"
    },
    {
      "cell_type": "code",
      "source": [
        "# Perform the dot product on X and Y (requires X or Y to be tranposed)\n",
        "tensor1 = tf.constant([[1,2],\n",
        "                       [3,4],\n",
        "                       [5,6]])\n",
        "tensor2 = tf.constant([[7,8],\n",
        "                       [9,10],\n",
        "                       [11,12]])\n",
        "tf.tensordot(tf.transpose(tensor1), tensor2, axes=1)"
      ],
      "metadata": {
        "colab": {
          "base_uri": "https://localhost:8080/"
        },
        "id": "gEHgptALJqzf",
        "outputId": "08184026-b7fc-4886-c34e-6c422cd025c7"
      },
      "id": "gEHgptALJqzf",
      "execution_count": 69,
      "outputs": [
        {
          "output_type": "execute_result",
          "data": {
            "text/plain": [
              "<tf.Tensor: shape=(2, 2), dtype=int32, numpy=\n",
              "array([[ 89,  98],\n",
              "       [116, 128]], dtype=int32)>"
            ]
          },
          "metadata": {},
          "execution_count": 69
        }
      ]
    },
    {
      "cell_type": "markdown",
      "source": [
        "`tf.tensordot()` is tensor contraction of a and b along specified axes and out product. It sums the product of elements from a and b over the indices specified by axes."
      ],
      "metadata": {
        "id": "48SP5-BuKFAR"
      },
      "id": "48SP5-BuKFAR"
    },
    {
      "cell_type": "code",
      "source": [
        "# Matrix multiplication by between tensor1 and tensor2 (transpose tensor2)\n",
        "tf.matmul(tensor1, tf.transpose(tensor2))"
      ],
      "metadata": {
        "colab": {
          "base_uri": "https://localhost:8080/"
        },
        "id": "ZVgdwz1jKxfk",
        "outputId": "e7ac1851-9d84-455a-8bb7-57758439ae97"
      },
      "id": "ZVgdwz1jKxfk",
      "execution_count": 70,
      "outputs": [
        {
          "output_type": "execute_result",
          "data": {
            "text/plain": [
              "<tf.Tensor: shape=(3, 3), dtype=int32, numpy=\n",
              "array([[ 23,  29,  35],\n",
              "       [ 53,  67,  81],\n",
              "       [ 83, 105, 127]], dtype=int32)>"
            ]
          },
          "metadata": {},
          "execution_count": 70
        }
      ]
    },
    {
      "cell_type": "code",
      "source": [
        "# Perform matrix multiplication between tensor1 and tensor2 (tensor2 reshaped)\n",
        "tf.matmul(tensor1, tf.reshape(tensor2, shape=(2,3)))"
      ],
      "metadata": {
        "colab": {
          "base_uri": "https://localhost:8080/"
        },
        "id": "9H56huhrK7j7",
        "outputId": "4c431fad-8eb3-438f-9f10-af2cf38e9d9b"
      },
      "id": "9H56huhrK7j7",
      "execution_count": 71,
      "outputs": [
        {
          "output_type": "execute_result",
          "data": {
            "text/plain": [
              "<tf.Tensor: shape=(3, 3), dtype=int32, numpy=\n",
              "array([[ 27,  30,  33],\n",
              "       [ 61,  68,  75],\n",
              "       [ 95, 106, 117]], dtype=int32)>"
            ]
          },
          "metadata": {},
          "execution_count": 71
        }
      ]
    },
    {
      "cell_type": "markdown",
      "source": [
        "As you can see, we get different results for transpose and reshape. We will spent a lot of time reshaping and transposing tensors when building our NN, so that is why we are practicing it now."
      ],
      "metadata": {
        "id": "BKC16VV2SlNG"
      },
      "id": "BKC16VV2SlNG"
    },
    {
      "cell_type": "code",
      "source": [
        "# Check values of tensor2, reshape tensor2, and transposed tensor2\n",
        "print(\"Normal Y:\")\n",
        "print(tensor2, \"\\n\") # \"\\n\" is for new line\n",
        "\n",
        "print(\"Y reshaped to (2,3):\")\n",
        "print(tf.reshape(tensor2, shape=(2,3)))\n",
        "\n",
        "print(\"Y transposed:\")\n",
        "print(tf.transpose(tensor2))"
      ],
      "metadata": {
        "colab": {
          "base_uri": "https://localhost:8080/"
        },
        "id": "PzReLCbWSuuZ",
        "outputId": "d6d716d0-6cee-4297-d157-93202cc18e91"
      },
      "id": "PzReLCbWSuuZ",
      "execution_count": 72,
      "outputs": [
        {
          "output_type": "stream",
          "name": "stdout",
          "text": [
            "Normal Y:\n",
            "tf.Tensor(\n",
            "[[ 7  8]\n",
            " [ 9 10]\n",
            " [11 12]], shape=(3, 2), dtype=int32) \n",
            "\n",
            "Y reshaped to (2,3):\n",
            "tf.Tensor(\n",
            "[[ 7  8  9]\n",
            " [10 11 12]], shape=(2, 3), dtype=int32)\n",
            "Y transposed:\n",
            "tf.Tensor(\n",
            "[[ 7  9 11]\n",
            " [ 8 10 12]], shape=(2, 3), dtype=int32)\n"
          ]
        }
      ]
    },
    {
      "cell_type": "markdown",
      "source": [
        "Writing print statements like above is helpful to investigate when you get errors. Additionally, if an operation works but the results are incorrect, this is called a silent error. Writing print statements like this is a great way to investigate silent errors. "
      ],
      "metadata": {
        "id": "dEJO45bTTU_s"
      },
      "id": "dEJO45bTTU_s"
    },
    {
      "cell_type": "code",
      "source": [
        "# Matrix multiplication\n",
        "tf.matmul(tensor1, tf.transpose(tensor2))"
      ],
      "metadata": {
        "colab": {
          "base_uri": "https://localhost:8080/"
        },
        "id": "lmKm3ut4To7j",
        "outputId": "37b1f7a3-290c-4ebc-dd05-ac0f751a8fb3"
      },
      "id": "lmKm3ut4To7j",
      "execution_count": 73,
      "outputs": [
        {
          "output_type": "execute_result",
          "data": {
            "text/plain": [
              "<tf.Tensor: shape=(3, 3), dtype=int32, numpy=\n",
              "array([[ 23,  29,  35],\n",
              "       [ 53,  67,  81],\n",
              "       [ 83, 105, 127]], dtype=int32)>"
            ]
          },
          "metadata": {},
          "execution_count": 73
        }
      ]
    },
    {
      "cell_type": "markdown",
      "source": [
        "So, which one should you use: transpose or reshape? Well, `TensorFlow` will do a lot of the work for you in the background. Generally, with matrix multiplication on 2 tensors where the shapes don't line up, you will transpose one of the tensors rather than reshaping them to satisfy the matrix multiplication rules. \n",
        "\n",
        "### Changing the Datatype of Tensors\n",
        "\n",
        "The default data type of most tensors with be `int32`, depending on how they have been created. Sometimes, you will want to change the data type."
      ],
      "metadata": {
        "id": "vHsTXB66Tt5Y"
      },
      "id": "vHsTXB66Tt5Y"
    },
    {
      "cell_type": "code",
      "source": [
        "# Create a new tensor with default datatype (float32)\n",
        "# The default datatype depends on the contents on the tensor\n",
        "B = tf.constant([1.7, 7.4])\n",
        "B.dtype"
      ],
      "metadata": {
        "colab": {
          "base_uri": "https://localhost:8080/"
        },
        "id": "vi5rTEU8kiMV",
        "outputId": "bbc6ecd0-c8c3-4680-ddef-6580ba8eae80"
      },
      "id": "vi5rTEU8kiMV",
      "execution_count": 74,
      "outputs": [
        {
          "output_type": "execute_result",
          "data": {
            "text/plain": [
              "tf.float32"
            ]
          },
          "metadata": {},
          "execution_count": 74
        }
      ]
    },
    {
      "cell_type": "code",
      "source": [
        "# Create another tensor with default datatype (int32)\n",
        "C = tf.constant([1,2])\n",
        "C.dtype"
      ],
      "metadata": {
        "colab": {
          "base_uri": "https://localhost:8080/"
        },
        "id": "4_YMU2l7kvx_",
        "outputId": "f9d5ac1a-0bc3-4391-df6d-a9398ed147bc"
      },
      "id": "4_YMU2l7kvx_",
      "execution_count": 75,
      "outputs": [
        {
          "output_type": "execute_result",
          "data": {
            "text/plain": [
              "tf.int32"
            ]
          },
          "metadata": {},
          "execution_count": 75
        }
      ]
    },
    {
      "cell_type": "code",
      "source": [
        "# Change from float 32 to float16 (reduced precision)\n",
        "# Mixed precision is the use of both 16-bit and 32-bit floating type\n",
        "# In models to make them run faster and use less memory \n",
        "D = tf.cast(B, dtype = tf.float16)\n",
        "D"
      ],
      "metadata": {
        "colab": {
          "base_uri": "https://localhost:8080/"
        },
        "id": "T3Fy7Pa4k9db",
        "outputId": "97c00ccc-8690-4b80-f943-cef7736ce814"
      },
      "id": "T3Fy7Pa4k9db",
      "execution_count": 76,
      "outputs": [
        {
          "output_type": "execute_result",
          "data": {
            "text/plain": [
              "<tf.Tensor: shape=(2,), dtype=float16, numpy=array([1.7, 7.4], dtype=float16)>"
            ]
          },
          "metadata": {},
          "execution_count": 76
        }
      ]
    },
    {
      "cell_type": "markdown",
      "source": [
        "`TensorFlow` mixed precision: https://www.tensorflow.org/guide/mixed_precision\n",
        "\n",
        "In `TensorFlow`, 32 bit precision is the default. Modern accerlators can run operations quicker on 16 bit precision. "
      ],
      "metadata": {
        "id": "13-5Q8O7lWi4"
      },
      "id": "13-5Q8O7lWi4"
    },
    {
      "cell_type": "code",
      "source": [
        "# From int32 to float32\n",
        "E = tf.cast(C, dtype = tf.float32)\n",
        "E"
      ],
      "metadata": {
        "colab": {
          "base_uri": "https://localhost:8080/"
        },
        "id": "CAPhxN56lbfL",
        "outputId": "0cc2812e-dca4-4b19-a0cb-ede517ae9f38"
      },
      "id": "CAPhxN56lbfL",
      "execution_count": 77,
      "outputs": [
        {
          "output_type": "execute_result",
          "data": {
            "text/plain": [
              "<tf.Tensor: shape=(2,), dtype=float32, numpy=array([1., 2.], dtype=float32)>"
            ]
          },
          "metadata": {},
          "execution_count": 77
        }
      ]
    },
    {
      "cell_type": "code",
      "source": [
        "# From float32 to float16\n",
        "F = tf.cast(E, dtype = tf.float16)\n",
        "F"
      ],
      "metadata": {
        "colab": {
          "base_uri": "https://localhost:8080/"
        },
        "id": "2xgQgTlMmHWu",
        "outputId": "ccbcc329-a843-4409-e2d9-581f1666361c"
      },
      "id": "2xgQgTlMmHWu",
      "execution_count": 78,
      "outputs": [
        {
          "output_type": "execute_result",
          "data": {
            "text/plain": [
              "<tf.Tensor: shape=(2,), dtype=float16, numpy=array([1., 2.], dtype=float16)>"
            ]
          },
          "metadata": {},
          "execution_count": 78
        }
      ]
    },
    {
      "cell_type": "markdown",
      "source": [
        "### Aggregating Tensors\n",
        "\n",
        "Aggregating tensors = condensing them from multiple values down to a smaller amount of values. "
      ],
      "metadata": {
        "id": "VkeWwcCSmNZV"
      },
      "id": "VkeWwcCSmNZV"
    },
    {
      "cell_type": "code",
      "source": [
        "# Create new tensor\n",
        "D = tf.constant([-7, -10])\n",
        "D"
      ],
      "metadata": {
        "colab": {
          "base_uri": "https://localhost:8080/"
        },
        "id": "II29RHSCTdIC",
        "outputId": "8e53fcfe-1414-4c08-e59e-4f5ba6ace483"
      },
      "id": "II29RHSCTdIC",
      "execution_count": 79,
      "outputs": [
        {
          "output_type": "execute_result",
          "data": {
            "text/plain": [
              "<tf.Tensor: shape=(2,), dtype=int32, numpy=array([ -7, -10], dtype=int32)>"
            ]
          },
          "metadata": {},
          "execution_count": 79
        }
      ]
    },
    {
      "cell_type": "code",
      "source": [
        "# Get the absolute values\n",
        "# Take all the negative values and make them positive \n",
        "tf.abs(D)"
      ],
      "metadata": {
        "colab": {
          "base_uri": "https://localhost:8080/"
        },
        "id": "YVXgJH52TpWL",
        "outputId": "c2694695-529f-4ffa-ce63-60231b01552c"
      },
      "id": "YVXgJH52TpWL",
      "execution_count": 80,
      "outputs": [
        {
          "output_type": "execute_result",
          "data": {
            "text/plain": [
              "<tf.Tensor: shape=(2,), dtype=int32, numpy=array([ 7, 10], dtype=int32)>"
            ]
          },
          "metadata": {},
          "execution_count": 80
        }
      ]
    },
    {
      "cell_type": "markdown",
      "source": [
        "Let's go through the following forms of aggregation:\n",
        "\n",
        "* min\n",
        "* max\n",
        "* mean\n",
        "* sum"
      ],
      "metadata": {
        "id": "WIYeQYf-T5BJ"
      },
      "id": "WIYeQYf-T5BJ"
    },
    {
      "cell_type": "code",
      "source": [
        "# Create a random tensor with values between 0 and 100 of size 50\n",
        "E = tf.constant(np.random.randint(0, 100, size = 50))\n",
        "E"
      ],
      "metadata": {
        "colab": {
          "base_uri": "https://localhost:8080/"
        },
        "id": "G5VMrJHaUEx5",
        "outputId": "0e4e5b17-5ca0-4b86-9582-070656e65662"
      },
      "id": "G5VMrJHaUEx5",
      "execution_count": 81,
      "outputs": [
        {
          "output_type": "execute_result",
          "data": {
            "text/plain": [
              "<tf.Tensor: shape=(50,), dtype=int64, numpy=\n",
              "array([88, 94, 31, 32, 90, 60, 89, 97, 87, 56, 31, 56,  6, 71, 15, 23, 11,\n",
              "        7, 47, 35, 38, 87, 33, 47, 31, 72, 61, 37, 69, 14, 68, 81, 12, 28,\n",
              "       18, 93, 34, 48, 14, 58, 34, 58, 35, 61, 93, 62,  3, 53,  1, 87])>"
            ]
          },
          "metadata": {},
          "execution_count": 81
        }
      ]
    },
    {
      "cell_type": "code",
      "source": [
        "# Checking the size, shape, and dimensions of tensor\n",
        "tf.size(E), E.shape, E.ndim"
      ],
      "metadata": {
        "colab": {
          "base_uri": "https://localhost:8080/"
        },
        "id": "5h3F-rIkUG32",
        "outputId": "826b876d-10ef-40d9-a305-292923758c96"
      },
      "id": "5h3F-rIkUG32",
      "execution_count": 82,
      "outputs": [
        {
          "output_type": "execute_result",
          "data": {
            "text/plain": [
              "(<tf.Tensor: shape=(), dtype=int32, numpy=50>, TensorShape([50]), 1)"
            ]
          },
          "metadata": {},
          "execution_count": 82
        }
      ]
    },
    {
      "cell_type": "code",
      "source": [
        "# Find the minimum\n",
        "tf.reduce_min(E)"
      ],
      "metadata": {
        "colab": {
          "base_uri": "https://localhost:8080/"
        },
        "id": "fouABvZBUeJZ",
        "outputId": "00248d03-c1e8-4bd4-d689-d21e04c20552"
      },
      "id": "fouABvZBUeJZ",
      "execution_count": 83,
      "outputs": [
        {
          "output_type": "execute_result",
          "data": {
            "text/plain": [
              "<tf.Tensor: shape=(), dtype=int64, numpy=1>"
            ]
          },
          "metadata": {},
          "execution_count": 83
        }
      ]
    },
    {
      "cell_type": "markdown",
      "source": [
        "The `reduce_` is usually in front of aggregation methods in `TensorFlow`."
      ],
      "metadata": {
        "id": "pI67DhHRUl4Q"
      },
      "id": "pI67DhHRUl4Q"
    },
    {
      "cell_type": "code",
      "source": [
        "# Find the maximum\n",
        "tf.reduce_max(E)"
      ],
      "metadata": {
        "colab": {
          "base_uri": "https://localhost:8080/"
        },
        "id": "5dynpdH8Uje2",
        "outputId": "90bdfcd2-712a-467f-fc18-2866af26babf"
      },
      "id": "5dynpdH8Uje2",
      "execution_count": 84,
      "outputs": [
        {
          "output_type": "execute_result",
          "data": {
            "text/plain": [
              "<tf.Tensor: shape=(), dtype=int64, numpy=97>"
            ]
          },
          "metadata": {},
          "execution_count": 84
        }
      ]
    },
    {
      "cell_type": "code",
      "source": [
        "# Find the mean\n",
        "tf.reduce_mean(E)"
      ],
      "metadata": {
        "colab": {
          "base_uri": "https://localhost:8080/"
        },
        "id": "UDQa2iL_UtwN",
        "outputId": "a66c74bb-2513-4e83-9fec-4a1becbaed2c"
      },
      "id": "UDQa2iL_UtwN",
      "execution_count": 85,
      "outputs": [
        {
          "output_type": "execute_result",
          "data": {
            "text/plain": [
              "<tf.Tensor: shape=(), dtype=int64, numpy=49>"
            ]
          },
          "metadata": {},
          "execution_count": 85
        }
      ]
    },
    {
      "cell_type": "code",
      "source": [
        "# Find the sum\n",
        "tf.reduce_sum(E)"
      ],
      "metadata": {
        "colab": {
          "base_uri": "https://localhost:8080/"
        },
        "id": "FmicZcA6UxRy",
        "outputId": "ad75d1c3-fe09-4117-a4d3-9af3f7eedf83"
      },
      "id": "FmicZcA6UxRy",
      "execution_count": 86,
      "outputs": [
        {
          "output_type": "execute_result",
          "data": {
            "text/plain": [
              "<tf.Tensor: shape=(), dtype=int64, numpy=2456>"
            ]
          },
          "metadata": {},
          "execution_count": 86
        }
      ]
    },
    {
      "cell_type": "code",
      "source": [
        "# Find the standard deviation\n",
        "E_float = tf.cast(E, dtype = tf.float16)\n",
        "tf.math.reduce_std(E_float)"
      ],
      "metadata": {
        "colab": {
          "base_uri": "https://localhost:8080/"
        },
        "id": "B6deNNJFUz93",
        "outputId": "2a4a1ee2-02eb-4eb9-fce6-dbc00e5ba394"
      },
      "id": "B6deNNJFUz93",
      "execution_count": 87,
      "outputs": [
        {
          "output_type": "execute_result",
          "data": {
            "text/plain": [
              "<tf.Tensor: shape=(), dtype=float16, numpy=28.34>"
            ]
          },
          "metadata": {},
          "execution_count": 87
        }
      ]
    },
    {
      "cell_type": "code",
      "source": [
        "# Finding the variance of our E tensor\n",
        "tf.math.reduce_variance(E_float)"
      ],
      "metadata": {
        "colab": {
          "base_uri": "https://localhost:8080/"
        },
        "id": "xYcMsL3pU8Fh",
        "outputId": "48bb2940-b617-4001-9b05-1de0760768d0"
      },
      "id": "xYcMsL3pU8Fh",
      "execution_count": 88,
      "outputs": [
        {
          "output_type": "execute_result",
          "data": {
            "text/plain": [
              "<tf.Tensor: shape=(), dtype=float16, numpy=803.0>"
            ]
          },
          "metadata": {},
          "execution_count": 88
        }
      ]
    },
    {
      "cell_type": "code",
      "source": [
        "# Also can do this\n",
        "import tensorflow_probability as tfp\n",
        "tfp.stats.variance(E)"
      ],
      "metadata": {
        "colab": {
          "base_uri": "https://localhost:8080/"
        },
        "id": "V7B_6ffhV9eE",
        "outputId": "6514321c-d320-4a33-90e5-4dbc7b4fcdf8"
      },
      "id": "V7B_6ffhV9eE",
      "execution_count": 89,
      "outputs": [
        {
          "output_type": "execute_result",
          "data": {
            "text/plain": [
              "<tf.Tensor: shape=(), dtype=int64, numpy=803>"
            ]
          },
          "metadata": {},
          "execution_count": 89
        }
      ]
    },
    {
      "cell_type": "markdown",
      "source": [
        "### Tensor Troubleshooting Example (Updating Tensor Datatypes) \n",
        "\n",
        "This is done above. Some certain function in `TensorFlow` require certain datatypes. For example, they need to be float rather than integer. This was also done earlier with specific math operations, such as square root and exponentiation. \n",
        "\n",
        "If you have an error regarding datatype, just look at the documentation and see what they are using in their examples. \n",
        "\n",
        "Typically, with `TensorFlow`, `float32` is the most commonly use data type. \n",
        "\n",
        "### Finding the Positional Minimum and Maximum of a  Tensor (`argmin` and `argmax`)\n",
        "\n",
        "When might this be helpful? This will be useful when the neural network provides us with output probabilities. Often times, the outputs are referred to as prediction probabilities. Finding the positional minimum and maximum will be helpful when determining the highest or lowest class probabilities. "
      ],
      "metadata": {
        "id": "n5lVhDJpVpBN"
      },
      "id": "n5lVhDJpVpBN"
    },
    {
      "cell_type": "code",
      "source": [
        "# Create a new tensor for finding positional minimum and maximum\n",
        "tf.random.set_seed(42)\n",
        "F = tf.random.uniform(shape=[50])\n",
        "F"
      ],
      "metadata": {
        "colab": {
          "base_uri": "https://localhost:8080/"
        },
        "id": "pOhd4EPMd9Fw",
        "outputId": "ed8b210c-1455-4c12-acfd-c5a5f07a7137"
      },
      "id": "pOhd4EPMd9Fw",
      "execution_count": 90,
      "outputs": [
        {
          "output_type": "execute_result",
          "data": {
            "text/plain": [
              "<tf.Tensor: shape=(50,), dtype=float32, numpy=\n",
              "array([0.6645621 , 0.44100678, 0.3528825 , 0.46448255, 0.03366041,\n",
              "       0.68467236, 0.74011743, 0.8724445 , 0.22632635, 0.22319686,\n",
              "       0.3103881 , 0.7223358 , 0.13318717, 0.5480639 , 0.5746088 ,\n",
              "       0.8996835 , 0.00946367, 0.5212307 , 0.6345445 , 0.1993283 ,\n",
              "       0.72942245, 0.54583454, 0.10756552, 0.6767061 , 0.6602763 ,\n",
              "       0.33695042, 0.60141766, 0.21062577, 0.8527372 , 0.44062173,\n",
              "       0.9485276 , 0.23752594, 0.81179297, 0.5263394 , 0.494308  ,\n",
              "       0.21612847, 0.8457197 , 0.8718841 , 0.3083862 , 0.6868038 ,\n",
              "       0.23764038, 0.7817228 , 0.9671384 , 0.06870162, 0.79873943,\n",
              "       0.66028714, 0.5871513 , 0.16461694, 0.7381023 , 0.32054043],\n",
              "      dtype=float32)>"
            ]
          },
          "metadata": {},
          "execution_count": 90
        }
      ]
    },
    {
      "cell_type": "code",
      "source": [
        "# Finding the maximum element position of F\n",
        "# At which index does the maximum value occur?\n",
        "# This is the same as np.argmax()\n",
        "tf.argmax(F)"
      ],
      "metadata": {
        "colab": {
          "base_uri": "https://localhost:8080/"
        },
        "id": "zT4Sb0PMhhZE",
        "outputId": "094fcccf-da26-42e2-f8f1-77574c7394e3"
      },
      "id": "zT4Sb0PMhhZE",
      "execution_count": 91,
      "outputs": [
        {
          "output_type": "execute_result",
          "data": {
            "text/plain": [
              "<tf.Tensor: shape=(), dtype=int64, numpy=42>"
            ]
          },
          "metadata": {},
          "execution_count": 91
        }
      ]
    },
    {
      "cell_type": "code",
      "source": [
        "# Indexing the tensor on our largest value position\n",
        "F[tf.argmax(F)]"
      ],
      "metadata": {
        "colab": {
          "base_uri": "https://localhost:8080/"
        },
        "id": "tRsVymQZhoGC",
        "outputId": "16043441-cc30-46c8-b694-121c033605bb"
      },
      "id": "tRsVymQZhoGC",
      "execution_count": 92,
      "outputs": [
        {
          "output_type": "execute_result",
          "data": {
            "text/plain": [
              "<tf.Tensor: shape=(), dtype=float32, numpy=0.9671384>"
            ]
          },
          "metadata": {},
          "execution_count": 92
        }
      ]
    },
    {
      "cell_type": "code",
      "source": [
        "# Check for equality \n",
        "F[tf.argmax(F)] == tf.reduce_max(F)"
      ],
      "metadata": {
        "colab": {
          "base_uri": "https://localhost:8080/"
        },
        "id": "JQcOu8yZh-eE",
        "outputId": "96834e88-c7c2-4347-cbb3-af5a51f3226e"
      },
      "id": "JQcOu8yZh-eE",
      "execution_count": 93,
      "outputs": [
        {
          "output_type": "execute_result",
          "data": {
            "text/plain": [
              "<tf.Tensor: shape=(), dtype=bool, numpy=True>"
            ]
          },
          "metadata": {},
          "execution_count": 93
        }
      ]
    },
    {
      "cell_type": "code",
      "source": [
        "# Finding the minimum element position of F\n",
        "# At which index does the minimum value occur?\n",
        "# This is the same as np.argmin()\n",
        "tf.argmin(F)"
      ],
      "metadata": {
        "colab": {
          "base_uri": "https://localhost:8080/"
        },
        "id": "zvy1LOpEh0q9",
        "outputId": "60a3e087-e823-486b-f16c-4f6e116bb3de"
      },
      "id": "zvy1LOpEh0q9",
      "execution_count": 94,
      "outputs": [
        {
          "output_type": "execute_result",
          "data": {
            "text/plain": [
              "<tf.Tensor: shape=(), dtype=int64, numpy=16>"
            ]
          },
          "metadata": {},
          "execution_count": 94
        }
      ]
    },
    {
      "cell_type": "code",
      "source": [
        "# Indexing the tenosor on our smallest value position\n",
        "F[tf.argmin(F)]"
      ],
      "metadata": {
        "colab": {
          "base_uri": "https://localhost:8080/"
        },
        "id": "i3yXmWUoiTbl",
        "outputId": "aea0d1e9-2929-479e-9a71-b2fc48fe2c02"
      },
      "id": "i3yXmWUoiTbl",
      "execution_count": 95,
      "outputs": [
        {
          "output_type": "execute_result",
          "data": {
            "text/plain": [
              "<tf.Tensor: shape=(), dtype=float32, numpy=0.009463668>"
            ]
          },
          "metadata": {},
          "execution_count": 95
        }
      ]
    },
    {
      "cell_type": "code",
      "source": [
        "# Checking for equality\n",
        "F[tf.argmin(F)] == tf.reduce_min(F)"
      ],
      "metadata": {
        "colab": {
          "base_uri": "https://localhost:8080/"
        },
        "id": "5GjswdsriYDF",
        "outputId": "6c72c7de-c55a-47d2-fdbb-64e58fc4feff"
      },
      "id": "5GjswdsriYDF",
      "execution_count": 96,
      "outputs": [
        {
          "output_type": "execute_result",
          "data": {
            "text/plain": [
              "<tf.Tensor: shape=(), dtype=bool, numpy=True>"
            ]
          },
          "metadata": {},
          "execution_count": 96
        }
      ]
    },
    {
      "cell_type": "markdown",
      "source": [
        "### Squeezing a Tensor (Remove All Single Dimensions)\n",
        "\n"
      ],
      "metadata": {
        "id": "-rDZo_DvifdU"
      },
      "id": "-rDZo_DvifdU"
    },
    {
      "cell_type": "code",
      "source": [
        "# Create a tensor to get started\n",
        "tf.random.set_seed(42)\n",
        "G = tf.constant(tf.random.uniform(shape=[50]), shape=(1,1,1,1, 50))\n",
        "G"
      ],
      "metadata": {
        "colab": {
          "base_uri": "https://localhost:8080/"
        },
        "id": "lBh6v7ZDi5JP",
        "outputId": "19293a39-801c-405c-c01d-5ddeda9a53b2"
      },
      "id": "lBh6v7ZDi5JP",
      "execution_count": 97,
      "outputs": [
        {
          "output_type": "execute_result",
          "data": {
            "text/plain": [
              "<tf.Tensor: shape=(1, 1, 1, 1, 50), dtype=float32, numpy=\n",
              "array([[[[[0.6645621 , 0.44100678, 0.3528825 , 0.46448255, 0.03366041,\n",
              "           0.68467236, 0.74011743, 0.8724445 , 0.22632635, 0.22319686,\n",
              "           0.3103881 , 0.7223358 , 0.13318717, 0.5480639 , 0.5746088 ,\n",
              "           0.8996835 , 0.00946367, 0.5212307 , 0.6345445 , 0.1993283 ,\n",
              "           0.72942245, 0.54583454, 0.10756552, 0.6767061 , 0.6602763 ,\n",
              "           0.33695042, 0.60141766, 0.21062577, 0.8527372 , 0.44062173,\n",
              "           0.9485276 , 0.23752594, 0.81179297, 0.5263394 , 0.494308  ,\n",
              "           0.21612847, 0.8457197 , 0.8718841 , 0.3083862 , 0.6868038 ,\n",
              "           0.23764038, 0.7817228 , 0.9671384 , 0.06870162, 0.79873943,\n",
              "           0.66028714, 0.5871513 , 0.16461694, 0.7381023 , 0.32054043]]]]],\n",
              "      dtype=float32)>"
            ]
          },
          "metadata": {},
          "execution_count": 97
        }
      ]
    },
    {
      "cell_type": "code",
      "source": [
        "G.shape"
      ],
      "metadata": {
        "colab": {
          "base_uri": "https://localhost:8080/"
        },
        "id": "hEcz1ux5jO0y",
        "outputId": "293569c2-e6f3-4d4b-f94b-952b86da332d"
      },
      "id": "hEcz1ux5jO0y",
      "execution_count": 98,
      "outputs": [
        {
          "output_type": "execute_result",
          "data": {
            "text/plain": [
              "TensorShape([1, 1, 1, 1, 50])"
            ]
          },
          "metadata": {},
          "execution_count": 98
        }
      ]
    },
    {
      "cell_type": "code",
      "source": [
        "# Squeezing the tensor\n",
        "G_squeezed = tf.squeeze(G)\n",
        "G_squeezed, G_squeezed.shape"
      ],
      "metadata": {
        "colab": {
          "base_uri": "https://localhost:8080/"
        },
        "id": "2LhSFk7hjR5b",
        "outputId": "48b58e9e-e028-4e22-ec8c-361465d59acc"
      },
      "id": "2LhSFk7hjR5b",
      "execution_count": 99,
      "outputs": [
        {
          "output_type": "execute_result",
          "data": {
            "text/plain": [
              "(<tf.Tensor: shape=(50,), dtype=float32, numpy=\n",
              " array([0.6645621 , 0.44100678, 0.3528825 , 0.46448255, 0.03366041,\n",
              "        0.68467236, 0.74011743, 0.8724445 , 0.22632635, 0.22319686,\n",
              "        0.3103881 , 0.7223358 , 0.13318717, 0.5480639 , 0.5746088 ,\n",
              "        0.8996835 , 0.00946367, 0.5212307 , 0.6345445 , 0.1993283 ,\n",
              "        0.72942245, 0.54583454, 0.10756552, 0.6767061 , 0.6602763 ,\n",
              "        0.33695042, 0.60141766, 0.21062577, 0.8527372 , 0.44062173,\n",
              "        0.9485276 , 0.23752594, 0.81179297, 0.5263394 , 0.494308  ,\n",
              "        0.21612847, 0.8457197 , 0.8718841 , 0.3083862 , 0.6868038 ,\n",
              "        0.23764038, 0.7817228 , 0.9671384 , 0.06870162, 0.79873943,\n",
              "        0.66028714, 0.5871513 , 0.16461694, 0.7381023 , 0.32054043],\n",
              "       dtype=float32)>, TensorShape([50]))"
            ]
          },
          "metadata": {},
          "execution_count": 99
        }
      ]
    },
    {
      "cell_type": "markdown",
      "source": [
        "If your tensor has too many single dimensions and you want to reduce it, getting rid of the extra dimensions, you can use the squeeze method.\n",
        "\n",
        "# One-Hot Encoding a Tensor\n",
        "\n",
        "One-hot encoding is the same as creating dummy variables. This is used for converting categorical variables into numeric values. One-hot encoding is where the integer encoded variable is removed and a new binary variable is added for each unique integer value. We do this because the input needs to be numeric; the algorithm will not understand words."
      ],
      "metadata": {
        "id": "saD1RDayjhoD"
      },
      "id": "saD1RDayjhoD"
    },
    {
      "cell_type": "code",
      "source": [
        "# Create a list of indices\n",
        "some_list = [0,1,2,3] # The locations are represented by indices\n",
        "\n",
        "# One hot encode our list of indices - this needs the indices and depth parameter\n",
        "tf.one_hot(some_list, depth = 4) "
      ],
      "metadata": {
        "colab": {
          "base_uri": "https://localhost:8080/"
        },
        "id": "NNpa22qskI7G",
        "outputId": "ea9ab044-5c87-4861-a9b9-0b43a8525919"
      },
      "id": "NNpa22qskI7G",
      "execution_count": 100,
      "outputs": [
        {
          "output_type": "execute_result",
          "data": {
            "text/plain": [
              "<tf.Tensor: shape=(4, 4), dtype=float32, numpy=\n",
              "array([[1., 0., 0., 0.],\n",
              "       [0., 1., 0., 0.],\n",
              "       [0., 0., 1., 0.],\n",
              "       [0., 0., 0., 1.]], dtype=float32)>"
            ]
          },
          "metadata": {},
          "execution_count": 100
        }
      ]
    },
    {
      "cell_type": "code",
      "source": [
        "# Specify custom values for one hot encoding\n",
        "tf.one_hot(some_list, depth = 4, on_value=\"Yes\", off_value = \"No\")"
      ],
      "metadata": {
        "colab": {
          "base_uri": "https://localhost:8080/"
        },
        "id": "Mql3lBvlkoyb",
        "outputId": "c79a9c20-dd3d-4db5-ed57-0275d70de4a0"
      },
      "id": "Mql3lBvlkoyb",
      "execution_count": 101,
      "outputs": [
        {
          "output_type": "execute_result",
          "data": {
            "text/plain": [
              "<tf.Tensor: shape=(4, 4), dtype=string, numpy=\n",
              "array([[b'Yes', b'No', b'No', b'No'],\n",
              "       [b'No', b'Yes', b'No', b'No'],\n",
              "       [b'No', b'No', b'Yes', b'No'],\n",
              "       [b'No', b'No', b'No', b'Yes']], dtype=object)>"
            ]
          },
          "metadata": {},
          "execution_count": 101
        }
      ]
    },
    {
      "cell_type": "markdown",
      "source": [
        "`tf.one_hot` accepts a list of category indices and depth which is essentially the number of unique categories and also the number of columns in the resulting tensors.\n",
        "\n",
        "`tf.one_hot()` takes an indices and a depth. The `indices` are the values to actually convert to a one-hot encoding. `Depth` refers to the maximum value to utilize.\n",
        "\n",
        "The `depth` parameter should be equivalent to the maximum value present in the array, +1 for 0. In this case, the maximum value is 3, so there are four possible values in the encoding - 0, 1, 2, and 3. As such, a `depth` of 4 is required to represent all of these values in the one-hot encoding."
      ],
      "metadata": {
        "id": "KnpBR4Y-lyAe"
      },
      "id": "KnpBR4Y-lyAe"
    },
    {
      "cell_type": "code",
      "source": [
        "indices = [0,1,1,2,3,0,3]\n",
        "cat_count = 4  #depth or the number of categories\n",
        "input = tf.one_hot(indices, cat_count) #apply one-hot encoding \n",
        "print(input.numpy())"
      ],
      "metadata": {
        "colab": {
          "base_uri": "https://localhost:8080/"
        },
        "id": "NFeOMCRlmJfc",
        "outputId": "3e5fdec2-e0b5-4e0e-c859-d32a86ec2662"
      },
      "id": "NFeOMCRlmJfc",
      "execution_count": 102,
      "outputs": [
        {
          "output_type": "stream",
          "name": "stdout",
          "text": [
            "[[1. 0. 0. 0.]\n",
            " [0. 1. 0. 0.]\n",
            " [0. 1. 0. 0.]\n",
            " [0. 0. 1. 0.]\n",
            " [0. 0. 0. 1.]\n",
            " [1. 0. 0. 0.]\n",
            " [0. 0. 0. 1.]]\n"
          ]
        }
      ]
    },
    {
      "cell_type": "markdown",
      "source": [
        "### Trying More Math Operations\n",
        "\n",
        "There are a huge list of math operations. Let's practice some more common ones:\n",
        "\n",
        "* Square\n",
        "* Log \n",
        "* Square Root"
      ],
      "metadata": {
        "id": "Bws5OeFJmwyo"
      },
      "id": "Bws5OeFJmwyo"
    },
    {
      "cell_type": "code",
      "source": [
        "# Creating a new tensor\n",
        "H = tf.range(1,10)\n",
        "H"
      ],
      "metadata": {
        "colab": {
          "base_uri": "https://localhost:8080/"
        },
        "id": "4505Hvs2m927",
        "outputId": "8f91db9a-0827-4ed0-d2e3-3429cc65c10f"
      },
      "id": "4505Hvs2m927",
      "execution_count": 103,
      "outputs": [
        {
          "output_type": "execute_result",
          "data": {
            "text/plain": [
              "<tf.Tensor: shape=(9,), dtype=int32, numpy=array([1, 2, 3, 4, 5, 6, 7, 8, 9], dtype=int32)>"
            ]
          },
          "metadata": {},
          "execution_count": 103
        }
      ]
    },
    {
      "cell_type": "code",
      "source": [
        "# Squaring \n",
        "tf.square(H)"
      ],
      "metadata": {
        "colab": {
          "base_uri": "https://localhost:8080/"
        },
        "id": "jUnwtLq5nCMN",
        "outputId": "dd402754-0a6b-48ad-d8a0-0ab81eac20f2"
      },
      "id": "jUnwtLq5nCMN",
      "execution_count": 104,
      "outputs": [
        {
          "output_type": "execute_result",
          "data": {
            "text/plain": [
              "<tf.Tensor: shape=(9,), dtype=int32, numpy=array([ 1,  4,  9, 16, 25, 36, 49, 64, 81], dtype=int32)>"
            ]
          },
          "metadata": {},
          "execution_count": 104
        }
      ]
    },
    {
      "cell_type": "code",
      "source": [
        "# Square root - method requires non integer type\n",
        "H_float = tf.cast(H, dtype = tf.float16)\n",
        "tf.sqrt(H_float)"
      ],
      "metadata": {
        "colab": {
          "base_uri": "https://localhost:8080/"
        },
        "id": "RalblVaenFG4",
        "outputId": "671cc301-3f4d-48cb-8068-8cefaca9cac9"
      },
      "id": "RalblVaenFG4",
      "execution_count": 105,
      "outputs": [
        {
          "output_type": "execute_result",
          "data": {
            "text/plain": [
              "<tf.Tensor: shape=(9,), dtype=float16, numpy=\n",
              "array([1.   , 1.414, 1.732, 2.   , 2.236, 2.45 , 2.646, 2.828, 3.   ],\n",
              "      dtype=float16)>"
            ]
          },
          "metadata": {},
          "execution_count": 105
        }
      ]
    },
    {
      "cell_type": "code",
      "source": [
        "# Log - method requires non integer type\n",
        "tf.math.log(H_float)"
      ],
      "metadata": {
        "colab": {
          "base_uri": "https://localhost:8080/"
        },
        "id": "2XDGhYZvnOUr",
        "outputId": "1db7237c-835e-4539-d46e-25b602e988e6"
      },
      "id": "2XDGhYZvnOUr",
      "execution_count": 106,
      "outputs": [
        {
          "output_type": "execute_result",
          "data": {
            "text/plain": [
              "<tf.Tensor: shape=(9,), dtype=float16, numpy=\n",
              "array([0.    , 0.6934, 1.099 , 1.387 , 1.609 , 1.792 , 1.946 , 2.08  ,\n",
              "       2.197 ], dtype=float16)>"
            ]
          },
          "metadata": {},
          "execution_count": 106
        }
      ]
    },
    {
      "cell_type": "markdown",
      "source": [
        "### Exploring `TensorFlow` and `Numpy` Compatibility \n",
        "\n",
        "`TensorFlow` interacts beautifully with `numpy` arrays. The are fully operational with one another. "
      ],
      "metadata": {
        "id": "Iosad2nVng_j"
      },
      "id": "Iosad2nVng_j"
    },
    {
      "cell_type": "code",
      "source": [
        "# Create a tensor directly from a numpy array\n",
        "J = tf.constant(np.array([3., 7., 10.]))\n",
        "J"
      ],
      "metadata": {
        "colab": {
          "base_uri": "https://localhost:8080/"
        },
        "id": "i35uAbPQn7tK",
        "outputId": "3693a371-8817-4363-bb30-d3607300cf76"
      },
      "id": "i35uAbPQn7tK",
      "execution_count": 107,
      "outputs": [
        {
          "output_type": "execute_result",
          "data": {
            "text/plain": [
              "<tf.Tensor: shape=(3,), dtype=float64, numpy=array([ 3.,  7., 10.])>"
            ]
          },
          "metadata": {},
          "execution_count": 107
        }
      ]
    },
    {
      "cell_type": "code",
      "source": [
        "# Convert our tensor to a np array\n",
        "np.array(J), type(np.array(J))"
      ],
      "metadata": {
        "colab": {
          "base_uri": "https://localhost:8080/"
        },
        "id": "nHdyJDYxoGsh",
        "outputId": "9596e414-ad0a-4c67-cc3f-ec130860d453"
      },
      "id": "nHdyJDYxoGsh",
      "execution_count": 108,
      "outputs": [
        {
          "output_type": "execute_result",
          "data": {
            "text/plain": [
              "(array([ 3.,  7., 10.]), numpy.ndarray)"
            ]
          },
          "metadata": {},
          "execution_count": 108
        }
      ]
    },
    {
      "cell_type": "code",
      "source": [
        "# Convert tensor J to a numpy array \n",
        "J.numpy(), type(J.numpy)"
      ],
      "metadata": {
        "colab": {
          "base_uri": "https://localhost:8080/"
        },
        "id": "N8ZCpz7roRyx",
        "outputId": "ff8e6425-4b5f-45cf-d715-eefa411efcd8"
      },
      "id": "N8ZCpz7roRyx",
      "execution_count": 109,
      "outputs": [
        {
          "output_type": "execute_result",
          "data": {
            "text/plain": [
              "(array([ 3.,  7., 10.]), method)"
            ]
          },
          "metadata": {},
          "execution_count": 109
        }
      ]
    },
    {
      "cell_type": "markdown",
      "source": [
        "This might be helpful because if there is some functionality that we want to use on our tensors, we can just convert it to a `numpy` array then back."
      ],
      "metadata": {
        "id": "YiKThjkSoYkg"
      },
      "id": "YiKThjkSoYkg"
    },
    {
      "cell_type": "code",
      "source": [
        "# J as a single number\n",
        "J = tf.constant([3.])\n",
        "J.numpy()[0]"
      ],
      "metadata": {
        "colab": {
          "base_uri": "https://localhost:8080/"
        },
        "id": "-r3zrlgjoaJ7",
        "outputId": "38fd61ab-2c82-49d2-ac56-c95f6ec7c8da"
      },
      "id": "-r3zrlgjoaJ7",
      "execution_count": 110,
      "outputs": [
        {
          "output_type": "execute_result",
          "data": {
            "text/plain": [
              "3.0"
            ]
          },
          "metadata": {},
          "execution_count": 110
        }
      ]
    },
    {
      "cell_type": "code",
      "source": [
        "# The default types of each are slightly different\n",
        "numpy_J = tf.constant(np.array([3., 7., 10.]))\n",
        "tensor_J = tf.constant([3., 7., 10.])\n",
        "\n",
        "# Check the data types of each\n",
        "numpy_J.dtype, tensor_J.dtype"
      ],
      "metadata": {
        "colab": {
          "base_uri": "https://localhost:8080/"
        },
        "id": "KB2-cdPHoqgD",
        "outputId": "ffb4a318-005c-428e-9641-1c570e4c4700"
      },
      "id": "KB2-cdPHoqgD",
      "execution_count": 111,
      "outputs": [
        {
          "output_type": "execute_result",
          "data": {
            "text/plain": [
              "(tf.float64, tf.float32)"
            ]
          },
          "metadata": {},
          "execution_count": 111
        }
      ]
    },
    {
      "cell_type": "markdown",
      "source": [
        "The default type for `numpy` is `float64`. The default type for `TensorFlow` is `float32`. This is important because we may need certain data types of certain operations. So, just be aware that the data types are different. The `float32` type is used for faster numerical processing.\n",
        "\n",
        "### Making Sure Tensors Work Run Fast on GPUs\n",
        "\n",
        "A `TensorFlow` tensor can be run on a GPU or TPU, while a `numpy` array cannot. GPUs and TPUs can perform calculations extremely quickly. \n"
      ],
      "metadata": {
        "id": "ic_D6s9epC7v"
      },
      "id": "ic_D6s9epC7v"
    },
    {
      "cell_type": "code",
      "source": [
        "# Check tensorflow gpu usage\n",
        "tf.test.is_gpu_available # This is deprecated"
      ],
      "metadata": {
        "colab": {
          "base_uri": "https://localhost:8080/"
        },
        "id": "u_AdoihPqsR4",
        "outputId": "7421bb44-9028-4dd5-e31a-9319136d68c6"
      },
      "id": "u_AdoihPqsR4",
      "execution_count": 112,
      "outputs": [
        {
          "output_type": "execute_result",
          "data": {
            "text/plain": [
              "<function tensorflow.python.framework.test_util.is_gpu_available(cuda_only=False, min_cuda_compute_capability=None)>"
            ]
          },
          "metadata": {},
          "execution_count": 112
        }
      ]
    },
    {
      "cell_type": "code",
      "source": [
        "# Another way\n",
        "tf.config.list_physical_devices() # We are currently using the CPU"
      ],
      "metadata": {
        "colab": {
          "base_uri": "https://localhost:8080/"
        },
        "id": "65buzuxfq-8p",
        "outputId": "9e4b6cf7-83a3-4bc0-ff0a-72734108318d"
      },
      "id": "65buzuxfq-8p",
      "execution_count": 113,
      "outputs": [
        {
          "output_type": "execute_result",
          "data": {
            "text/plain": [
              "[PhysicalDevice(name='/physical_device:CPU:0', device_type='CPU'),\n",
              " PhysicalDevice(name='/physical_device:GPU:0', device_type='GPU')]"
            ]
          },
          "metadata": {},
          "execution_count": 113
        }
      ]
    },
    {
      "cell_type": "code",
      "source": [
        "# Another way\n",
        "tf.config.list_physical_devices('GPU') # There will be none "
      ],
      "metadata": {
        "colab": {
          "base_uri": "https://localhost:8080/"
        },
        "id": "a5prP62PrNsU",
        "outputId": "9e18860a-d537-4fb9-bc5b-35dd7e3b8295"
      },
      "id": "a5prP62PrNsU",
      "execution_count": 114,
      "outputs": [
        {
          "output_type": "execute_result",
          "data": {
            "text/plain": [
              "[PhysicalDevice(name='/physical_device:GPU:0', device_type='GPU')]"
            ]
          },
          "metadata": {},
          "execution_count": 114
        }
      ]
    },
    {
      "cell_type": "markdown",
      "source": [
        "In Google Colab, by default, you will not have access to a GPU/TPU. If you want to use a GPU/TPU, change the runtime type to a GPU/TPU. Using a TPU is a bit more complicated than a GPU as it requires more setup. "
      ],
      "metadata": {
        "id": "4te2HVsEriLT"
      },
      "id": "4te2HVsEriLT"
    },
    {
      "cell_type": "code",
      "source": [
        "# Check GPU\n",
        "import tensorflow as tf\n",
        "tf.config.list_physical_devices('GPU')"
      ],
      "metadata": {
        "colab": {
          "base_uri": "https://localhost:8080/"
        },
        "id": "_PBXH_uKrwlN",
        "outputId": "6a41b567-c049-4c08-e703-2d1924f81682"
      },
      "id": "_PBXH_uKrwlN",
      "execution_count": 115,
      "outputs": [
        {
          "output_type": "execute_result",
          "data": {
            "text/plain": [
              "[PhysicalDevice(name='/physical_device:GPU:0', device_type='GPU')]"
            ]
          },
          "metadata": {},
          "execution_count": 115
        }
      ]
    },
    {
      "cell_type": "code",
      "source": [
        "# Check the type of GPU you using\n",
        "!nvidia-smi"
      ],
      "metadata": {
        "colab": {
          "base_uri": "https://localhost:8080/"
        },
        "id": "RxlLoYosr45T",
        "outputId": "275659e5-a03a-4be5-d556-704ff66623af"
      },
      "id": "RxlLoYosr45T",
      "execution_count": 116,
      "outputs": [
        {
          "output_type": "stream",
          "name": "stdout",
          "text": [
            "Mon Nov 14 12:57:15 2022       \n",
            "+-----------------------------------------------------------------------------+\n",
            "| NVIDIA-SMI 460.32.03    Driver Version: 460.32.03    CUDA Version: 11.2     |\n",
            "|-------------------------------+----------------------+----------------------+\n",
            "| GPU  Name        Persistence-M| Bus-Id        Disp.A | Volatile Uncorr. ECC |\n",
            "| Fan  Temp  Perf  Pwr:Usage/Cap|         Memory-Usage | GPU-Util  Compute M. |\n",
            "|                               |                      |               MIG M. |\n",
            "|===============================+======================+======================|\n",
            "|   0  Tesla T4            Off  | 00000000:00:04.0 Off |                    0 |\n",
            "| N/A   45C    P0    28W /  70W |    314MiB / 15109MiB |      0%      Default |\n",
            "|                               |                      |                  N/A |\n",
            "+-------------------------------+----------------------+----------------------+\n",
            "                                                                               \n",
            "+-----------------------------------------------------------------------------+\n",
            "| Processes:                                                                  |\n",
            "|  GPU   GI   CI        PID   Type   Process name                  GPU Memory |\n",
            "|        ID   ID                                                   Usage      |\n",
            "|=============================================================================|\n",
            "+-----------------------------------------------------------------------------+\n"
          ]
        }
      ]
    },
    {
      "cell_type": "markdown",
      "source": [
        "How do I get my `TensorFlow` code to run on the GPU? If you have access to a CUDA-enabled GPU (Google Colab does), `TensorFlow` automatically uses it whenever possible. \n",
        "\n"
      ],
      "metadata": {
        "id": "4VgchzKvsIqo"
      },
      "id": "4VgchzKvsIqo"
    }
  ],
  "metadata": {
    "kernelspec": {
      "display_name": "Python 3 (ipykernel)",
      "language": "python",
      "name": "python3"
    },
    "language_info": {
      "codemirror_mode": {
        "name": "ipython",
        "version": 3
      },
      "file_extension": ".py",
      "mimetype": "text/x-python",
      "name": "python",
      "nbconvert_exporter": "python",
      "pygments_lexer": "ipython3",
      "version": "3.9.7"
    },
    "colab": {
      "provenance": [],
      "collapsed_sections": []
    },
    "accelerator": "GPU",
    "gpuClass": "standard"
  },
  "nbformat": 4,
  "nbformat_minor": 5
}